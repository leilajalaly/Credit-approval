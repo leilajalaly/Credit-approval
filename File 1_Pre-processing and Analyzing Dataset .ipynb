{
 "cells": [
  {
   "cell_type": "code",
   "execution_count": 1,
   "metadata": {},
   "outputs": [],
   "source": [
    "import pandas as pd\n",
    "from pandas import DataFrame\n",
    "\n",
    "import numpy as np\n",
    "\n",
    "import matplotlib.pyplot as plt\n",
    "%matplotlib inline\n",
    "\n",
    "from sklearn import preprocessing\n",
    "from sklearn.preprocessing import LabelEncoder\n",
    "\n",
    "import seaborn as sns\n",
    "\n",
    "from scipy import stats\n",
    "from scipy.stats import norm"
   ]
  },
  {
   "cell_type": "markdown",
   "metadata": {},
   "source": [
    "# Calling all files needed"
   ]
  },
  {
   "cell_type": "code",
   "execution_count": 2,
   "metadata": {},
   "outputs": [],
   "source": [
    "#Reading the four csv files \n",
    "data_train = pd.read_csv('data_train.csv')\n",
    "installments_payments = pd.read_csv('installments_payments.csv')\n",
    "credit_card_balance = pd.read_csv('credit_card_balance.csv')\n",
    "previous_application = pd.read_csv('previous_application.csv')"
   ]
  },
  {
   "cell_type": "markdown",
   "metadata": {},
   "source": [
    "# Cleaning data and Merging them together based on IDs"
   ]
  },
  {
   "cell_type": "code",
   "execution_count": 3,
   "metadata": {},
   "outputs": [],
   "source": [
    "#Remove instances with at least one empty column \n",
    "data_train = data_train.dropna(axis=0)\n",
    "installments_payments = installments_payments.dropna(axis=0)\n",
    "credit_card_balance = credit_card_balance.dropna(axis=0)\n",
    "previous_application = previous_application.dropna(axis=0)"
   ]
  },
  {
   "cell_type": "code",
   "execution_count": 4,
   "metadata": {},
   "outputs": [],
   "source": [
    "#Merge data_train, credit_card_balance\n",
    "Data_train_credit=pd.merge(data_train,credit_card_balance)"
   ]
  },
  {
   "cell_type": "code",
   "execution_count": 5,
   "metadata": {},
   "outputs": [],
   "source": [
    "#Merge Data_train_credit with previous_application\n",
    "data_train_app=pd.merge(Data_train_credit,previous_application, on='SK_ID_CURR')"
   ]
  },
  {
   "cell_type": "code",
   "execution_count": 6,
   "metadata": {},
   "outputs": [],
   "source": [
    "#Merge data_train_app with installments_payments to create final data\n",
    "data=pd.merge(data_train_app,installments_payments, on='SK_ID_CURR')"
   ]
  },
  {
   "cell_type": "code",
   "execution_count": 7,
   "metadata": {},
   "outputs": [
    {
     "data": {
      "text/plain": [
       "(44370124, 43)"
      ]
     },
     "execution_count": 7,
     "metadata": {},
     "output_type": "execute_result"
    }
   ],
   "source": [
    "#Find shape of data\n",
    "data.shape"
   ]
  },
  {
   "cell_type": "code",
   "execution_count": 8,
   "metadata": {},
   "outputs": [],
   "source": [
    "#Remove previous ID\n",
    "del data['SK_ID_PREV']"
   ]
  },
  {
   "cell_type": "code",
   "execution_count": 9,
   "metadata": {},
   "outputs": [],
   "source": [
    "#Keep one information per applicant\n",
    "data = data.drop_duplicates(subset='SK_ID_CURR', keep=\"first\")"
   ]
  },
  {
   "cell_type": "code",
   "execution_count": 10,
   "metadata": {},
   "outputs": [
    {
     "data": {
      "text/plain": [
       "(9390, 42)"
      ]
     },
     "execution_count": 10,
     "metadata": {},
     "output_type": "execute_result"
    }
   ],
   "source": [
    "#Find shape of data\n",
    "data.shape"
   ]
  },
  {
   "cell_type": "code",
   "execution_count": 11,
   "metadata": {},
   "outputs": [
    {
     "data": {
      "text/html": [
       "<div>\n",
       "<style scoped>\n",
       "    .dataframe tbody tr th:only-of-type {\n",
       "        vertical-align: middle;\n",
       "    }\n",
       "\n",
       "    .dataframe tbody tr th {\n",
       "        vertical-align: top;\n",
       "    }\n",
       "\n",
       "    .dataframe thead th {\n",
       "        text-align: right;\n",
       "    }\n",
       "</style>\n",
       "<table border=\"1\" class=\"dataframe\">\n",
       "  <thead>\n",
       "    <tr style=\"text-align: right;\">\n",
       "      <th></th>\n",
       "      <th>SK_ID_CURR</th>\n",
       "      <th>TARGET</th>\n",
       "      <th>AMT_INCOME_TOTAL</th>\n",
       "      <th>AMT_CREDIT_x</th>\n",
       "      <th>AMT_ANNUITY_x</th>\n",
       "      <th>AMT_GOODS_PRICE_x</th>\n",
       "      <th>REGION_POPULATION_RELATIVE</th>\n",
       "      <th>DAYS_BIRTH</th>\n",
       "      <th>DAYS_EMPLOYED</th>\n",
       "      <th>CNT_FAM_MEMBERS</th>\n",
       "      <th>...</th>\n",
       "      <th>AMT_APPLICATION</th>\n",
       "      <th>AMT_CREDIT_y</th>\n",
       "      <th>AMT_GOODS_PRICE_y</th>\n",
       "      <th>NAME_CONTRACT_STATUS_y</th>\n",
       "      <th>NUM_INSTALMENT_VERSION</th>\n",
       "      <th>NUM_INSTALMENT_NUMBER</th>\n",
       "      <th>DAYS_INSTALMENT</th>\n",
       "      <th>DAYS_ENTRY_PAYMENT</th>\n",
       "      <th>AMT_INSTALMENT</th>\n",
       "      <th>AMT_PAYMENT</th>\n",
       "    </tr>\n",
       "  </thead>\n",
       "  <tbody>\n",
       "    <tr>\n",
       "      <th>0</th>\n",
       "      <td>100100.0</td>\n",
       "      <td>0</td>\n",
       "      <td>202500</td>\n",
       "      <td>796396</td>\n",
       "      <td>38443</td>\n",
       "      <td>643500</td>\n",
       "      <td>0.008019</td>\n",
       "      <td>-15909</td>\n",
       "      <td>-1094</td>\n",
       "      <td>4</td>\n",
       "      <td>...</td>\n",
       "      <td>107766.0</td>\n",
       "      <td>117247.5</td>\n",
       "      <td>107766.0</td>\n",
       "      <td>Approved</td>\n",
       "      <td>0.0</td>\n",
       "      <td>114</td>\n",
       "      <td>-243.0</td>\n",
       "      <td>-243.0</td>\n",
       "      <td>483.345</td>\n",
       "      <td>483.345</td>\n",
       "    </tr>\n",
       "    <tr>\n",
       "      <th>12213</th>\n",
       "      <td>100145.0</td>\n",
       "      <td>0</td>\n",
       "      <td>202500</td>\n",
       "      <td>260725</td>\n",
       "      <td>16789</td>\n",
       "      <td>198000</td>\n",
       "      <td>0.018850</td>\n",
       "      <td>-16282</td>\n",
       "      <td>-4375</td>\n",
       "      <td>2</td>\n",
       "      <td>...</td>\n",
       "      <td>427500.0</td>\n",
       "      <td>522301.5</td>\n",
       "      <td>427500.0</td>\n",
       "      <td>Approved</td>\n",
       "      <td>1.0</td>\n",
       "      <td>22</td>\n",
       "      <td>-169.0</td>\n",
       "      <td>-169.0</td>\n",
       "      <td>29412.810</td>\n",
       "      <td>29412.810</td>\n",
       "    </tr>\n",
       "  </tbody>\n",
       "</table>\n",
       "<p>2 rows × 42 columns</p>\n",
       "</div>"
      ],
      "text/plain": [
       "       SK_ID_CURR  TARGET  AMT_INCOME_TOTAL  AMT_CREDIT_x  AMT_ANNUITY_x  \\\n",
       "0        100100.0       0            202500        796396          38443   \n",
       "12213    100145.0       0            202500        260725          16789   \n",
       "\n",
       "       AMT_GOODS_PRICE_x  REGION_POPULATION_RELATIVE  DAYS_BIRTH  \\\n",
       "0                 643500                    0.008019      -15909   \n",
       "12213             198000                    0.018850      -16282   \n",
       "\n",
       "       DAYS_EMPLOYED  CNT_FAM_MEMBERS  ...  AMT_APPLICATION  AMT_CREDIT_y  \\\n",
       "0              -1094                4  ...         107766.0      117247.5   \n",
       "12213          -4375                2  ...         427500.0      522301.5   \n",
       "\n",
       "      AMT_GOODS_PRICE_y NAME_CONTRACT_STATUS_y NUM_INSTALMENT_VERSION  \\\n",
       "0              107766.0               Approved                    0.0   \n",
       "12213          427500.0               Approved                    1.0   \n",
       "\n",
       "      NUM_INSTALMENT_NUMBER DAYS_INSTALMENT  DAYS_ENTRY_PAYMENT  \\\n",
       "0                       114          -243.0              -243.0   \n",
       "12213                    22          -169.0              -169.0   \n",
       "\n",
       "       AMT_INSTALMENT  AMT_PAYMENT  \n",
       "0             483.345      483.345  \n",
       "12213       29412.810    29412.810  \n",
       "\n",
       "[2 rows x 42 columns]"
      ]
     },
     "execution_count": 11,
     "metadata": {},
     "output_type": "execute_result"
    }
   ],
   "source": [
    "#Get a glamps of our data\n",
    "data.head(2)"
   ]
  },
  {
   "cell_type": "code",
   "execution_count": 12,
   "metadata": {},
   "outputs": [],
   "source": [
    "#Change the index of dataset and make it start from 0 to the end\n",
    "data.index = range(9390)"
   ]
  },
  {
   "cell_type": "code",
   "execution_count": 13,
   "metadata": {},
   "outputs": [],
   "source": [
    "#Negetive number doesnt have meaning in our dataset(like days of birth and employment) so make all negetive to positive\n",
    "data = data.apply(lambda x: x.abs() if np.issubdtype(x.dtype, np.number) else x)"
   ]
  },
  {
   "cell_type": "code",
   "execution_count": 14,
   "metadata": {},
   "outputs": [
    {
     "data": {
      "text/plain": [
       "0    8458\n",
       "1     932\n",
       "Name: TARGET, dtype: int64"
      ]
     },
     "execution_count": 14,
     "metadata": {},
     "output_type": "execute_result"
    }
   ],
   "source": [
    "#Check the distribution of TARGET columns\n",
    "data['TARGET'].value_counts()"
   ]
  },
  {
   "cell_type": "code",
   "execution_count": 15,
   "metadata": {},
   "outputs": [
    {
     "data": {
      "image/png": "[encoded data removed]",
      "text/plain": [
       "<Figure size 576x288 with 2 Axes>"
      ]
     },
     "metadata": {
      "needs_background": "light"
     },
     "output_type": "display_data"
    }
   ],
   "source": [
    "#Draw the ratio of each class to whole data\n",
    "fig, axs = plt.subplots(1,2,figsize=(8,4))\n",
    "sns.countplot(x='TARGET',data=data,ax=axs[0])\n",
    "axs[0].set_title(\"Frequency of each Loan Status\")\n",
    "data.TARGET.value_counts().plot(x=None,y=None, kind='pie', ax=axs[1],autopct='%1.2f%%')\n",
    "axs[1].set_title(\"Percentage of each Loan status\")\n",
    "plt.show()"
   ]
  },
  {
   "cell_type": "markdown",
   "metadata": {},
   "source": [
    "# One-Hot Encoding"
   ]
  },
  {
   "cell_type": "code",
   "execution_count": 16,
   "metadata": {},
   "outputs": [
    {
     "data": {
      "text/plain": [
       "float64    22\n",
       "int64      13\n",
       "object      7\n",
       "dtype: int64"
      ]
     },
     "execution_count": 16,
     "metadata": {},
     "output_type": "execute_result"
    }
   ],
   "source": [
    "#Examine classes of all columns\n",
    "data.dtypes.value_counts()"
   ]
  },
  {
   "cell_type": "code",
   "execution_count": 17,
   "metadata": {},
   "outputs": [
    {
     "data": {
      "text/plain": [
       "CODE_GENDER                2\n",
       "FLAG_OWN_REALTY            2\n",
       "NAME_EDUCATION_TYPE        5\n",
       "NAME_FAMILY_STATUS         5\n",
       "OCCUPATION_TYPE           18\n",
       "NAME_CONTRACT_STATUS_x     3\n",
       "NAME_CONTRACT_STATUS_y     4\n",
       "dtype: int64"
      ]
     },
     "execution_count": 17,
     "metadata": {},
     "output_type": "execute_result"
    }
   ],
   "source": [
    "#Number of unique classes in each object columns\n",
    "data.select_dtypes('object').apply(pd.Series.nunique, axis = 0)"
   ]
  },
  {
   "cell_type": "code",
   "execution_count": 18,
   "metadata": {},
   "outputs": [
    {
     "name": "stdout",
     "output_type": "stream",
     "text": [
      "Training Features shape:  (9390, 74)\n"
     ]
    }
   ],
   "source": [
    "#one-hot encoding of categorical variables(make all object columns to numeric)\n",
    "data = pd.get_dummies(data)\n",
    "print('Training Features shape: ', data.shape)\n"
   ]
  },
  {
   "cell_type": "code",
   "execution_count": 19,
   "metadata": {},
   "outputs": [
    {
     "data": {
      "text/plain": [
       "uint8      39\n",
       "float64    22\n",
       "int64      13\n",
       "dtype: int64"
      ]
     },
     "execution_count": 19,
     "metadata": {},
     "output_type": "execute_result"
    }
   ],
   "source": [
    "#Examine dtypes of data\n",
    "data.dtypes.value_counts()"
   ]
  },
  {
   "cell_type": "code",
   "execution_count": 20,
   "metadata": {},
   "outputs": [
    {
     "data": {
      "text/html": [
       "<div>\n",
       "<style scoped>\n",
       "    .dataframe tbody tr th:only-of-type {\n",
       "        vertical-align: middle;\n",
       "    }\n",
       "\n",
       "    .dataframe tbody tr th {\n",
       "        vertical-align: top;\n",
       "    }\n",
       "\n",
       "    .dataframe thead th {\n",
       "        text-align: right;\n",
       "    }\n",
       "</style>\n",
       "<table border=\"1\" class=\"dataframe\">\n",
       "  <thead>\n",
       "    <tr style=\"text-align: right;\">\n",
       "      <th></th>\n",
       "      <th>SK_ID_CURR</th>\n",
       "      <th>TARGET</th>\n",
       "      <th>AMT_INCOME_TOTAL</th>\n",
       "      <th>AMT_CREDIT_x</th>\n",
       "      <th>AMT_ANNUITY_x</th>\n",
       "      <th>AMT_GOODS_PRICE_x</th>\n",
       "      <th>REGION_POPULATION_RELATIVE</th>\n",
       "      <th>DAYS_BIRTH</th>\n",
       "      <th>DAYS_EMPLOYED</th>\n",
       "      <th>CNT_FAM_MEMBERS</th>\n",
       "      <th>...</th>\n",
       "      <th>OCCUPATION_TYPE_Secretaries</th>\n",
       "      <th>OCCUPATION_TYPE_Security staff</th>\n",
       "      <th>OCCUPATION_TYPE_Waiters/barmen staff</th>\n",
       "      <th>NAME_CONTRACT_STATUS_x_Active</th>\n",
       "      <th>NAME_CONTRACT_STATUS_x_Completed</th>\n",
       "      <th>NAME_CONTRACT_STATUS_x_Signed</th>\n",
       "      <th>NAME_CONTRACT_STATUS_y_Approved</th>\n",
       "      <th>NAME_CONTRACT_STATUS_y_Canceled</th>\n",
       "      <th>NAME_CONTRACT_STATUS_y_Refused</th>\n",
       "      <th>NAME_CONTRACT_STATUS_y_Unused offer</th>\n",
       "    </tr>\n",
       "  </thead>\n",
       "  <tbody>\n",
       "    <tr>\n",
       "      <th>0</th>\n",
       "      <td>100100.0</td>\n",
       "      <td>0</td>\n",
       "      <td>202500</td>\n",
       "      <td>796396</td>\n",
       "      <td>38443</td>\n",
       "      <td>643500</td>\n",
       "      <td>0.008019</td>\n",
       "      <td>15909</td>\n",
       "      <td>1094</td>\n",
       "      <td>4</td>\n",
       "      <td>...</td>\n",
       "      <td>0</td>\n",
       "      <td>0</td>\n",
       "      <td>0</td>\n",
       "      <td>1</td>\n",
       "      <td>0</td>\n",
       "      <td>0</td>\n",
       "      <td>1</td>\n",
       "      <td>0</td>\n",
       "      <td>0</td>\n",
       "      <td>0</td>\n",
       "    </tr>\n",
       "    <tr>\n",
       "      <th>1</th>\n",
       "      <td>100145.0</td>\n",
       "      <td>0</td>\n",
       "      <td>202500</td>\n",
       "      <td>260725</td>\n",
       "      <td>16789</td>\n",
       "      <td>198000</td>\n",
       "      <td>0.018850</td>\n",
       "      <td>16282</td>\n",
       "      <td>4375</td>\n",
       "      <td>2</td>\n",
       "      <td>...</td>\n",
       "      <td>0</td>\n",
       "      <td>0</td>\n",
       "      <td>0</td>\n",
       "      <td>1</td>\n",
       "      <td>0</td>\n",
       "      <td>0</td>\n",
       "      <td>1</td>\n",
       "      <td>0</td>\n",
       "      <td>0</td>\n",
       "      <td>0</td>\n",
       "    </tr>\n",
       "  </tbody>\n",
       "</table>\n",
       "<p>2 rows × 74 columns</p>\n",
       "</div>"
      ],
      "text/plain": [
       "   SK_ID_CURR  TARGET  AMT_INCOME_TOTAL  AMT_CREDIT_x  AMT_ANNUITY_x  \\\n",
       "0    100100.0       0            202500        796396          38443   \n",
       "1    100145.0       0            202500        260725          16789   \n",
       "\n",
       "   AMT_GOODS_PRICE_x  REGION_POPULATION_RELATIVE  DAYS_BIRTH  DAYS_EMPLOYED  \\\n",
       "0             643500                    0.008019       15909           1094   \n",
       "1             198000                    0.018850       16282           4375   \n",
       "\n",
       "   CNT_FAM_MEMBERS  ...  OCCUPATION_TYPE_Secretaries  \\\n",
       "0                4  ...                            0   \n",
       "1                2  ...                            0   \n",
       "\n",
       "   OCCUPATION_TYPE_Security staff  OCCUPATION_TYPE_Waiters/barmen staff  \\\n",
       "0                               0                                     0   \n",
       "1                               0                                     0   \n",
       "\n",
       "   NAME_CONTRACT_STATUS_x_Active  NAME_CONTRACT_STATUS_x_Completed  \\\n",
       "0                              1                                 0   \n",
       "1                              1                                 0   \n",
       "\n",
       "   NAME_CONTRACT_STATUS_x_Signed  NAME_CONTRACT_STATUS_y_Approved  \\\n",
       "0                              0                                1   \n",
       "1                              0                                1   \n",
       "\n",
       "   NAME_CONTRACT_STATUS_y_Canceled  NAME_CONTRACT_STATUS_y_Refused  \\\n",
       "0                                0                               0   \n",
       "1                                0                               0   \n",
       "\n",
       "   NAME_CONTRACT_STATUS_y_Unused offer  \n",
       "0                                    0  \n",
       "1                                    0  \n",
       "\n",
       "[2 rows x 74 columns]"
      ]
     },
     "execution_count": 20,
     "metadata": {},
     "output_type": "execute_result"
    }
   ],
   "source": [
    "data.head(2)"
   ]
  },
  {
   "cell_type": "markdown",
   "metadata": {},
   "source": [
    "# Dealing with outliear in dataset"
   ]
  },
  {
   "cell_type": "code",
   "execution_count": 21,
   "metadata": {},
   "outputs": [],
   "source": [
    "data['SK_ID_CURR'] = data['SK_ID_CURR'].astype(str)"
   ]
  },
  {
   "cell_type": "code",
   "execution_count": 22,
   "metadata": {},
   "outputs": [
    {
     "data": {
      "text/html": [
       "<div>\n",
       "<style scoped>\n",
       "    .dataframe tbody tr th:only-of-type {\n",
       "        vertical-align: middle;\n",
       "    }\n",
       "\n",
       "    .dataframe tbody tr th {\n",
       "        vertical-align: top;\n",
       "    }\n",
       "\n",
       "    .dataframe thead th {\n",
       "        text-align: right;\n",
       "    }\n",
       "</style>\n",
       "<table border=\"1\" class=\"dataframe\">\n",
       "  <thead>\n",
       "    <tr style=\"text-align: right;\">\n",
       "      <th></th>\n",
       "      <th>TARGET</th>\n",
       "      <th>AMT_INCOME_TOTAL</th>\n",
       "      <th>AMT_CREDIT_x</th>\n",
       "      <th>AMT_ANNUITY_x</th>\n",
       "      <th>AMT_GOODS_PRICE_x</th>\n",
       "      <th>REGION_POPULATION_RELATIVE</th>\n",
       "      <th>DAYS_BIRTH</th>\n",
       "      <th>DAYS_EMPLOYED</th>\n",
       "      <th>CNT_FAM_MEMBERS</th>\n",
       "      <th>REGION_RATING_CLIENT_W_CITY</th>\n",
       "      <th>...</th>\n",
       "      <th>OCCUPATION_TYPE_Secretaries</th>\n",
       "      <th>OCCUPATION_TYPE_Security staff</th>\n",
       "      <th>OCCUPATION_TYPE_Waiters/barmen staff</th>\n",
       "      <th>NAME_CONTRACT_STATUS_x_Active</th>\n",
       "      <th>NAME_CONTRACT_STATUS_x_Completed</th>\n",
       "      <th>NAME_CONTRACT_STATUS_x_Signed</th>\n",
       "      <th>NAME_CONTRACT_STATUS_y_Approved</th>\n",
       "      <th>NAME_CONTRACT_STATUS_y_Canceled</th>\n",
       "      <th>NAME_CONTRACT_STATUS_y_Refused</th>\n",
       "      <th>NAME_CONTRACT_STATUS_y_Unused offer</th>\n",
       "    </tr>\n",
       "  </thead>\n",
       "  <tbody>\n",
       "    <tr>\n",
       "      <th>count</th>\n",
       "      <td>9390.000000</td>\n",
       "      <td>9390.000000</td>\n",
       "      <td>9390.000000</td>\n",
       "      <td>9390.000000</td>\n",
       "      <td>9390.000000</td>\n",
       "      <td>9390.000000</td>\n",
       "      <td>9390.000000</td>\n",
       "      <td>9390.000000</td>\n",
       "      <td>9390.000000</td>\n",
       "      <td>9390.000000</td>\n",
       "      <td>...</td>\n",
       "      <td>9390.000000</td>\n",
       "      <td>9390.000000</td>\n",
       "      <td>9390.000000</td>\n",
       "      <td>9390.000000</td>\n",
       "      <td>9390.000000</td>\n",
       "      <td>9390.000000</td>\n",
       "      <td>9390.000000</td>\n",
       "      <td>9390.000000</td>\n",
       "      <td>9390.000000</td>\n",
       "      <td>9390.000000</td>\n",
       "    </tr>\n",
       "    <tr>\n",
       "      <th>mean</th>\n",
       "      <td>0.099255</td>\n",
       "      <td>190067.360490</td>\n",
       "      <td>518271.796699</td>\n",
       "      <td>26570.763259</td>\n",
       "      <td>459529.401810</td>\n",
       "      <td>0.021481</td>\n",
       "      <td>14825.168158</td>\n",
       "      <td>2327.657827</td>\n",
       "      <td>2.408307</td>\n",
       "      <td>2.021299</td>\n",
       "      <td>...</td>\n",
       "      <td>0.004899</td>\n",
       "      <td>0.039617</td>\n",
       "      <td>0.002236</td>\n",
       "      <td>0.965921</td>\n",
       "      <td>0.032801</td>\n",
       "      <td>0.001278</td>\n",
       "      <td>0.814058</td>\n",
       "      <td>0.007561</td>\n",
       "      <td>0.176890</td>\n",
       "      <td>0.001491</td>\n",
       "    </tr>\n",
       "    <tr>\n",
       "      <th>std</th>\n",
       "      <td>0.299019</td>\n",
       "      <td>79802.268332</td>\n",
       "      <td>238846.229011</td>\n",
       "      <td>11720.167702</td>\n",
       "      <td>219023.557797</td>\n",
       "      <td>0.013534</td>\n",
       "      <td>3278.717496</td>\n",
       "      <td>2090.533296</td>\n",
       "      <td>0.932859</td>\n",
       "      <td>0.484034</td>\n",
       "      <td>...</td>\n",
       "      <td>0.069824</td>\n",
       "      <td>0.195067</td>\n",
       "      <td>0.047240</td>\n",
       "      <td>0.181441</td>\n",
       "      <td>0.178124</td>\n",
       "      <td>0.035728</td>\n",
       "      <td>0.389081</td>\n",
       "      <td>0.086631</td>\n",
       "      <td>0.381596</td>\n",
       "      <td>0.038586</td>\n",
       "    </tr>\n",
       "    <tr>\n",
       "      <th>min</th>\n",
       "      <td>0.000000</td>\n",
       "      <td>31500.000000</td>\n",
       "      <td>45000.000000</td>\n",
       "      <td>2205.000000</td>\n",
       "      <td>45000.000000</td>\n",
       "      <td>0.001276</td>\n",
       "      <td>7820.000000</td>\n",
       "      <td>26.000000</td>\n",
       "      <td>1.000000</td>\n",
       "      <td>1.000000</td>\n",
       "      <td>...</td>\n",
       "      <td>0.000000</td>\n",
       "      <td>0.000000</td>\n",
       "      <td>0.000000</td>\n",
       "      <td>0.000000</td>\n",
       "      <td>0.000000</td>\n",
       "      <td>0.000000</td>\n",
       "      <td>0.000000</td>\n",
       "      <td>0.000000</td>\n",
       "      <td>0.000000</td>\n",
       "      <td>0.000000</td>\n",
       "    </tr>\n",
       "    <tr>\n",
       "      <th>25%</th>\n",
       "      <td>0.000000</td>\n",
       "      <td>135000.000000</td>\n",
       "      <td>307991.250000</td>\n",
       "      <td>18684.000000</td>\n",
       "      <td>256500.000000</td>\n",
       "      <td>0.010276</td>\n",
       "      <td>12185.500000</td>\n",
       "      <td>840.000000</td>\n",
       "      <td>2.000000</td>\n",
       "      <td>2.000000</td>\n",
       "      <td>...</td>\n",
       "      <td>0.000000</td>\n",
       "      <td>0.000000</td>\n",
       "      <td>0.000000</td>\n",
       "      <td>1.000000</td>\n",
       "      <td>0.000000</td>\n",
       "      <td>0.000000</td>\n",
       "      <td>1.000000</td>\n",
       "      <td>0.000000</td>\n",
       "      <td>0.000000</td>\n",
       "      <td>0.000000</td>\n",
       "    </tr>\n",
       "    <tr>\n",
       "      <th>50%</th>\n",
       "      <td>0.000000</td>\n",
       "      <td>180000.000000</td>\n",
       "      <td>512338.000000</td>\n",
       "      <td>25375.000000</td>\n",
       "      <td>450000.000000</td>\n",
       "      <td>0.019101</td>\n",
       "      <td>14568.000000</td>\n",
       "      <td>1714.500000</td>\n",
       "      <td>2.000000</td>\n",
       "      <td>2.000000</td>\n",
       "      <td>...</td>\n",
       "      <td>0.000000</td>\n",
       "      <td>0.000000</td>\n",
       "      <td>0.000000</td>\n",
       "      <td>1.000000</td>\n",
       "      <td>0.000000</td>\n",
       "      <td>0.000000</td>\n",
       "      <td>1.000000</td>\n",
       "      <td>0.000000</td>\n",
       "      <td>0.000000</td>\n",
       "      <td>0.000000</td>\n",
       "    </tr>\n",
       "    <tr>\n",
       "      <th>75%</th>\n",
       "      <td>0.000000</td>\n",
       "      <td>225000.000000</td>\n",
       "      <td>704844.000000</td>\n",
       "      <td>32067.000000</td>\n",
       "      <td>675000.000000</td>\n",
       "      <td>0.028663</td>\n",
       "      <td>17260.750000</td>\n",
       "      <td>3160.000000</td>\n",
       "      <td>3.000000</td>\n",
       "      <td>2.000000</td>\n",
       "      <td>...</td>\n",
       "      <td>0.000000</td>\n",
       "      <td>0.000000</td>\n",
       "      <td>0.000000</td>\n",
       "      <td>1.000000</td>\n",
       "      <td>0.000000</td>\n",
       "      <td>0.000000</td>\n",
       "      <td>1.000000</td>\n",
       "      <td>0.000000</td>\n",
       "      <td>0.000000</td>\n",
       "      <td>0.000000</td>\n",
       "    </tr>\n",
       "    <tr>\n",
       "      <th>max</th>\n",
       "      <td>1.000000</td>\n",
       "      <td>495000.000000</td>\n",
       "      <td>999121.000000</td>\n",
       "      <td>99004.000000</td>\n",
       "      <td>999000.000000</td>\n",
       "      <td>0.072508</td>\n",
       "      <td>23599.000000</td>\n",
       "      <td>14436.000000</td>\n",
       "      <td>8.000000</td>\n",
       "      <td>3.000000</td>\n",
       "      <td>...</td>\n",
       "      <td>1.000000</td>\n",
       "      <td>1.000000</td>\n",
       "      <td>1.000000</td>\n",
       "      <td>1.000000</td>\n",
       "      <td>1.000000</td>\n",
       "      <td>1.000000</td>\n",
       "      <td>1.000000</td>\n",
       "      <td>1.000000</td>\n",
       "      <td>1.000000</td>\n",
       "      <td>1.000000</td>\n",
       "    </tr>\n",
       "  </tbody>\n",
       "</table>\n",
       "<p>8 rows × 73 columns</p>\n",
       "</div>"
      ],
      "text/plain": [
       "            TARGET  AMT_INCOME_TOTAL   AMT_CREDIT_x  AMT_ANNUITY_x  \\\n",
       "count  9390.000000       9390.000000    9390.000000    9390.000000   \n",
       "mean      0.099255     190067.360490  518271.796699   26570.763259   \n",
       "std       0.299019      79802.268332  238846.229011   11720.167702   \n",
       "min       0.000000      31500.000000   45000.000000    2205.000000   \n",
       "25%       0.000000     135000.000000  307991.250000   18684.000000   \n",
       "50%       0.000000     180000.000000  512338.000000   25375.000000   \n",
       "75%       0.000000     225000.000000  704844.000000   32067.000000   \n",
       "max       1.000000     495000.000000  999121.000000   99004.000000   \n",
       "\n",
       "       AMT_GOODS_PRICE_x  REGION_POPULATION_RELATIVE    DAYS_BIRTH  \\\n",
       "count        9390.000000                 9390.000000   9390.000000   \n",
       "mean       459529.401810                    0.021481  14825.168158   \n",
       "std        219023.557797                    0.013534   3278.717496   \n",
       "min         45000.000000                    0.001276   7820.000000   \n",
       "25%        256500.000000                    0.010276  12185.500000   \n",
       "50%        450000.000000                    0.019101  14568.000000   \n",
       "75%        675000.000000                    0.028663  17260.750000   \n",
       "max        999000.000000                    0.072508  23599.000000   \n",
       "\n",
       "       DAYS_EMPLOYED  CNT_FAM_MEMBERS  REGION_RATING_CLIENT_W_CITY  ...  \\\n",
       "count    9390.000000      9390.000000                  9390.000000  ...   \n",
       "mean     2327.657827         2.408307                     2.021299  ...   \n",
       "std      2090.533296         0.932859                     0.484034  ...   \n",
       "min        26.000000         1.000000                     1.000000  ...   \n",
       "25%       840.000000         2.000000                     2.000000  ...   \n",
       "50%      1714.500000         2.000000                     2.000000  ...   \n",
       "75%      3160.000000         3.000000                     2.000000  ...   \n",
       "max     14436.000000         8.000000                     3.000000  ...   \n",
       "\n",
       "       OCCUPATION_TYPE_Secretaries  OCCUPATION_TYPE_Security staff  \\\n",
       "count                  9390.000000                     9390.000000   \n",
       "mean                      0.004899                        0.039617   \n",
       "std                       0.069824                        0.195067   \n",
       "min                       0.000000                        0.000000   \n",
       "25%                       0.000000                        0.000000   \n",
       "50%                       0.000000                        0.000000   \n",
       "75%                       0.000000                        0.000000   \n",
       "max                       1.000000                        1.000000   \n",
       "\n",
       "       OCCUPATION_TYPE_Waiters/barmen staff  NAME_CONTRACT_STATUS_x_Active  \\\n",
       "count                           9390.000000                    9390.000000   \n",
       "mean                               0.002236                       0.965921   \n",
       "std                                0.047240                       0.181441   \n",
       "min                                0.000000                       0.000000   \n",
       "25%                                0.000000                       1.000000   \n",
       "50%                                0.000000                       1.000000   \n",
       "75%                                0.000000                       1.000000   \n",
       "max                                1.000000                       1.000000   \n",
       "\n",
       "       NAME_CONTRACT_STATUS_x_Completed  NAME_CONTRACT_STATUS_x_Signed  \\\n",
       "count                       9390.000000                    9390.000000   \n",
       "mean                           0.032801                       0.001278   \n",
       "std                            0.178124                       0.035728   \n",
       "min                            0.000000                       0.000000   \n",
       "25%                            0.000000                       0.000000   \n",
       "50%                            0.000000                       0.000000   \n",
       "75%                            0.000000                       0.000000   \n",
       "max                            1.000000                       1.000000   \n",
       "\n",
       "       NAME_CONTRACT_STATUS_y_Approved  NAME_CONTRACT_STATUS_y_Canceled  \\\n",
       "count                      9390.000000                      9390.000000   \n",
       "mean                          0.814058                         0.007561   \n",
       "std                           0.389081                         0.086631   \n",
       "min                           0.000000                         0.000000   \n",
       "25%                           1.000000                         0.000000   \n",
       "50%                           1.000000                         0.000000   \n",
       "75%                           1.000000                         0.000000   \n",
       "max                           1.000000                         1.000000   \n",
       "\n",
       "       NAME_CONTRACT_STATUS_y_Refused  NAME_CONTRACT_STATUS_y_Unused offer  \n",
       "count                     9390.000000                          9390.000000  \n",
       "mean                         0.176890                             0.001491  \n",
       "std                          0.381596                             0.038586  \n",
       "min                          0.000000                             0.000000  \n",
       "25%                          0.000000                             0.000000  \n",
       "50%                          0.000000                             0.000000  \n",
       "75%                          0.000000                             0.000000  \n",
       "max                          1.000000                             1.000000  \n",
       "\n",
       "[8 rows x 73 columns]"
      ]
     },
     "execution_count": 22,
     "metadata": {},
     "output_type": "execute_result"
    }
   ],
   "source": [
    "#Eximine the destribution of features\n",
    "data.describe()"
   ]
  },
  {
   "cell_type": "code",
   "execution_count": 23,
   "metadata": {},
   "outputs": [],
   "source": [
    "#columns that need to be chase for outliears\n",
    "Outliear_detection=data[[\n",
    "    'AMT_INCOME_TOTAL','AMT_CREDIT_x','AMT_ANNUITY_x','AMT_GOODS_PRICE_x','DAYS_EMPLOYED','DAYS_BIRTH'\n",
    "                        , 'AMT_BALANCE','AMT_CREDIT_LIMIT_ACTUAL', 'AMT_TOTAL_RECEIVABLE','AMT_PAYMENT_TOTAL_CURRENT'\n",
    "                        ]]"
   ]
  },
  {
   "cell_type": "code",
   "execution_count": 24,
   "metadata": {},
   "outputs": [],
   "source": [
    "#Using zscore to deal with outliears\n",
    "from scipy import stats\n",
    "data=data[(np.abs(stats.zscore(Outliear_detection)) <= 3).all(axis=1)]"
   ]
  },
  {
   "cell_type": "code",
   "execution_count": 25,
   "metadata": {},
   "outputs": [
    {
     "data": {
      "text/plain": [
       "(8486, 74)"
      ]
     },
     "execution_count": 25,
     "metadata": {},
     "output_type": "execute_result"
    }
   ],
   "source": [
    "#Check how many rows exist after deleting outliears\n",
    "data.shape"
   ]
  },
  {
   "cell_type": "code",
   "execution_count": 26,
   "metadata": {},
   "outputs": [],
   "source": [
    "#Making target value as a seperate dataframe\n",
    "data_target=data[['TARGET']]"
   ]
  },
  {
   "cell_type": "code",
   "execution_count": 27,
   "metadata": {},
   "outputs": [
    {
     "data": {
      "text/plain": [
       "0    7636\n",
       "1     850\n",
       "Name: TARGET, dtype: int64"
      ]
     },
     "execution_count": 27,
     "metadata": {},
     "output_type": "execute_result"
    }
   ],
   "source": [
    "#Number of approved(0) and rejected(1) applicants\n",
    "data_target['TARGET'].value_counts()"
   ]
  },
  {
   "cell_type": "code",
   "execution_count": 28,
   "metadata": {},
   "outputs": [
    {
     "data": {
      "text/html": [
       "<div>\n",
       "<style scoped>\n",
       "    .dataframe tbody tr th:only-of-type {\n",
       "        vertical-align: middle;\n",
       "    }\n",
       "\n",
       "    .dataframe tbody tr th {\n",
       "        vertical-align: top;\n",
       "    }\n",
       "\n",
       "    .dataframe thead th {\n",
       "        text-align: right;\n",
       "    }\n",
       "</style>\n",
       "<table border=\"1\" class=\"dataframe\">\n",
       "  <thead>\n",
       "    <tr style=\"text-align: right;\">\n",
       "      <th></th>\n",
       "      <th>SK_ID_CURR</th>\n",
       "      <th>TARGET</th>\n",
       "      <th>AMT_INCOME_TOTAL</th>\n",
       "      <th>AMT_CREDIT_x</th>\n",
       "      <th>AMT_ANNUITY_x</th>\n",
       "      <th>AMT_GOODS_PRICE_x</th>\n",
       "      <th>REGION_POPULATION_RELATIVE</th>\n",
       "      <th>DAYS_BIRTH</th>\n",
       "      <th>DAYS_EMPLOYED</th>\n",
       "      <th>CNT_FAM_MEMBERS</th>\n",
       "      <th>...</th>\n",
       "      <th>OCCUPATION_TYPE_Secretaries</th>\n",
       "      <th>OCCUPATION_TYPE_Security staff</th>\n",
       "      <th>OCCUPATION_TYPE_Waiters/barmen staff</th>\n",
       "      <th>NAME_CONTRACT_STATUS_x_Active</th>\n",
       "      <th>NAME_CONTRACT_STATUS_x_Completed</th>\n",
       "      <th>NAME_CONTRACT_STATUS_x_Signed</th>\n",
       "      <th>NAME_CONTRACT_STATUS_y_Approved</th>\n",
       "      <th>NAME_CONTRACT_STATUS_y_Canceled</th>\n",
       "      <th>NAME_CONTRACT_STATUS_y_Refused</th>\n",
       "      <th>NAME_CONTRACT_STATUS_y_Unused offer</th>\n",
       "    </tr>\n",
       "  </thead>\n",
       "  <tbody>\n",
       "    <tr>\n",
       "      <th>0</th>\n",
       "      <td>100100.0</td>\n",
       "      <td>0</td>\n",
       "      <td>202500</td>\n",
       "      <td>796396</td>\n",
       "      <td>38443</td>\n",
       "      <td>643500</td>\n",
       "      <td>0.008019</td>\n",
       "      <td>15909</td>\n",
       "      <td>1094</td>\n",
       "      <td>4</td>\n",
       "      <td>...</td>\n",
       "      <td>0</td>\n",
       "      <td>0</td>\n",
       "      <td>0</td>\n",
       "      <td>1</td>\n",
       "      <td>0</td>\n",
       "      <td>0</td>\n",
       "      <td>1</td>\n",
       "      <td>0</td>\n",
       "      <td>0</td>\n",
       "      <td>0</td>\n",
       "    </tr>\n",
       "    <tr>\n",
       "      <th>1</th>\n",
       "      <td>100145.0</td>\n",
       "      <td>0</td>\n",
       "      <td>202500</td>\n",
       "      <td>260725</td>\n",
       "      <td>16789</td>\n",
       "      <td>198000</td>\n",
       "      <td>0.018850</td>\n",
       "      <td>16282</td>\n",
       "      <td>4375</td>\n",
       "      <td>2</td>\n",
       "      <td>...</td>\n",
       "      <td>0</td>\n",
       "      <td>0</td>\n",
       "      <td>0</td>\n",
       "      <td>1</td>\n",
       "      <td>0</td>\n",
       "      <td>0</td>\n",
       "      <td>1</td>\n",
       "      <td>0</td>\n",
       "      <td>0</td>\n",
       "      <td>0</td>\n",
       "    </tr>\n",
       "    <tr>\n",
       "      <th>2</th>\n",
       "      <td>100198.0</td>\n",
       "      <td>0</td>\n",
       "      <td>135000</td>\n",
       "      <td>531000</td>\n",
       "      <td>32616</td>\n",
       "      <td>531000</td>\n",
       "      <td>0.028663</td>\n",
       "      <td>13116</td>\n",
       "      <td>1786</td>\n",
       "      <td>3</td>\n",
       "      <td>...</td>\n",
       "      <td>0</td>\n",
       "      <td>0</td>\n",
       "      <td>0</td>\n",
       "      <td>0</td>\n",
       "      <td>1</td>\n",
       "      <td>0</td>\n",
       "      <td>0</td>\n",
       "      <td>0</td>\n",
       "      <td>1</td>\n",
       "      <td>0</td>\n",
       "    </tr>\n",
       "    <tr>\n",
       "      <th>4</th>\n",
       "      <td>100284.0</td>\n",
       "      <td>0</td>\n",
       "      <td>180000</td>\n",
       "      <td>675000</td>\n",
       "      <td>29862</td>\n",
       "      <td>675000</td>\n",
       "      <td>0.015221</td>\n",
       "      <td>14445</td>\n",
       "      <td>3218</td>\n",
       "      <td>4</td>\n",
       "      <td>...</td>\n",
       "      <td>0</td>\n",
       "      <td>0</td>\n",
       "      <td>0</td>\n",
       "      <td>1</td>\n",
       "      <td>0</td>\n",
       "      <td>0</td>\n",
       "      <td>1</td>\n",
       "      <td>0</td>\n",
       "      <td>0</td>\n",
       "      <td>0</td>\n",
       "    </tr>\n",
       "    <tr>\n",
       "      <th>5</th>\n",
       "      <td>100378.0</td>\n",
       "      <td>0</td>\n",
       "      <td>247500</td>\n",
       "      <td>808650</td>\n",
       "      <td>26217</td>\n",
       "      <td>675000</td>\n",
       "      <td>0.008575</td>\n",
       "      <td>15017</td>\n",
       "      <td>639</td>\n",
       "      <td>2</td>\n",
       "      <td>...</td>\n",
       "      <td>0</td>\n",
       "      <td>0</td>\n",
       "      <td>0</td>\n",
       "      <td>1</td>\n",
       "      <td>0</td>\n",
       "      <td>0</td>\n",
       "      <td>1</td>\n",
       "      <td>0</td>\n",
       "      <td>0</td>\n",
       "      <td>0</td>\n",
       "    </tr>\n",
       "  </tbody>\n",
       "</table>\n",
       "<p>5 rows × 74 columns</p>\n",
       "</div>"
      ],
      "text/plain": [
       "  SK_ID_CURR  TARGET  AMT_INCOME_TOTAL  AMT_CREDIT_x  AMT_ANNUITY_x  \\\n",
       "0   100100.0       0            202500        796396          38443   \n",
       "1   100145.0       0            202500        260725          16789   \n",
       "2   100198.0       0            135000        531000          32616   \n",
       "4   100284.0       0            180000        675000          29862   \n",
       "5   100378.0       0            247500        808650          26217   \n",
       "\n",
       "   AMT_GOODS_PRICE_x  REGION_POPULATION_RELATIVE  DAYS_BIRTH  DAYS_EMPLOYED  \\\n",
       "0             643500                    0.008019       15909           1094   \n",
       "1             198000                    0.018850       16282           4375   \n",
       "2             531000                    0.028663       13116           1786   \n",
       "4             675000                    0.015221       14445           3218   \n",
       "5             675000                    0.008575       15017            639   \n",
       "\n",
       "   CNT_FAM_MEMBERS  ...  OCCUPATION_TYPE_Secretaries  \\\n",
       "0                4  ...                            0   \n",
       "1                2  ...                            0   \n",
       "2                3  ...                            0   \n",
       "4                4  ...                            0   \n",
       "5                2  ...                            0   \n",
       "\n",
       "   OCCUPATION_TYPE_Security staff  OCCUPATION_TYPE_Waiters/barmen staff  \\\n",
       "0                               0                                     0   \n",
       "1                               0                                     0   \n",
       "2                               0                                     0   \n",
       "4                               0                                     0   \n",
       "5                               0                                     0   \n",
       "\n",
       "   NAME_CONTRACT_STATUS_x_Active  NAME_CONTRACT_STATUS_x_Completed  \\\n",
       "0                              1                                 0   \n",
       "1                              1                                 0   \n",
       "2                              0                                 1   \n",
       "4                              1                                 0   \n",
       "5                              1                                 0   \n",
       "\n",
       "   NAME_CONTRACT_STATUS_x_Signed  NAME_CONTRACT_STATUS_y_Approved  \\\n",
       "0                              0                                1   \n",
       "1                              0                                1   \n",
       "2                              0                                0   \n",
       "4                              0                                1   \n",
       "5                              0                                1   \n",
       "\n",
       "   NAME_CONTRACT_STATUS_y_Canceled  NAME_CONTRACT_STATUS_y_Refused  \\\n",
       "0                                0                               0   \n",
       "1                                0                               0   \n",
       "2                                0                               1   \n",
       "4                                0                               0   \n",
       "5                                0                               0   \n",
       "\n",
       "   NAME_CONTRACT_STATUS_y_Unused offer  \n",
       "0                                    0  \n",
       "1                                    0  \n",
       "2                                    0  \n",
       "4                                    0  \n",
       "5                                    0  \n",
       "\n",
       "[5 rows x 74 columns]"
      ]
     },
     "execution_count": 28,
     "metadata": {},
     "output_type": "execute_result"
    }
   ],
   "source": [
    "data.head()"
   ]
  },
  {
   "cell_type": "markdown",
   "metadata": {},
   "source": [
    "# Chose sample size for analyse and model"
   ]
  },
  {
   "cell_type": "code",
   "execution_count": 29,
   "metadata": {},
   "outputs": [],
   "source": [
    "#Select 850 rows from rejected application(these are all rejected applications)\n",
    "df_ONE = data.sample(n=850,  weights=data['TARGET']==1,random_state=5)"
   ]
  },
  {
   "cell_type": "code",
   "execution_count": 30,
   "metadata": {},
   "outputs": [
    {
     "data": {
      "text/plain": [
       "1    850\n",
       "Name: TARGET, dtype: int64"
      ]
     },
     "execution_count": 30,
     "metadata": {},
     "output_type": "execute_result"
    }
   ],
   "source": [
    "df_ONE['TARGET'].value_counts()"
   ]
  },
  {
   "cell_type": "code",
   "execution_count": 31,
   "metadata": {},
   "outputs": [],
   "source": [
    "#Select 1000 rows from approved application\n",
    "df_ALL = data.sample(n=1000, weights=data['TARGET']==0,random_state=5)"
   ]
  },
  {
   "cell_type": "code",
   "execution_count": 32,
   "metadata": {},
   "outputs": [],
   "source": [
    "#Concatinate the two datasets together\n",
    "data=pd.concat([df_ONE,df_ALL])"
   ]
  },
  {
   "cell_type": "code",
   "execution_count": 33,
   "metadata": {},
   "outputs": [
    {
     "data": {
      "text/plain": [
       "(1850, 74)"
      ]
     },
     "execution_count": 33,
     "metadata": {},
     "output_type": "execute_result"
    }
   ],
   "source": [
    "#Check the shape\n",
    "data.shape"
   ]
  },
  {
   "cell_type": "code",
   "execution_count": 34,
   "metadata": {},
   "outputs": [
    {
     "data": {
      "text/plain": [
       "0    1000\n",
       "1     850\n",
       "Name: TARGET, dtype: int64"
      ]
     },
     "execution_count": 34,
     "metadata": {},
     "output_type": "execute_result"
    }
   ],
   "source": [
    "#Examine if selection is correct\n",
    "data['TARGET'].value_counts()"
   ]
  },
  {
   "cell_type": "code",
   "execution_count": 35,
   "metadata": {},
   "outputs": [
    {
     "data": {
      "text/plain": [
       "uint8      39\n",
       "float64    21\n",
       "int64      13\n",
       "object      1\n",
       "dtype: int64"
      ]
     },
     "execution_count": 35,
     "metadata": {},
     "output_type": "execute_result"
    }
   ],
   "source": [
    "data.dtypes.value_counts()"
   ]
  },
  {
   "cell_type": "code",
   "execution_count": 36,
   "metadata": {},
   "outputs": [],
   "source": [
    "#Change the index of dataset and make it start from 0 to the end\n",
    "data.index = range(1850)"
   ]
  },
  {
   "cell_type": "markdown",
   "metadata": {},
   "source": [
    "# Features Importants"
   ]
  },
  {
   "cell_type": "code",
   "execution_count": 37,
   "metadata": {},
   "outputs": [],
   "source": [
    "#Remove applicant IDs as their index represent it\n",
    "del data['SK_ID_CURR']"
   ]
  },
  {
   "cell_type": "code",
   "execution_count": 38,
   "metadata": {},
   "outputs": [
    {
     "data": {
      "text/plain": [
       "<matplotlib.axes._subplots.AxesSubplot at 0x296b1d99b08>"
      ]
     },
     "execution_count": 38,
     "metadata": {},
     "output_type": "execute_result"
    },
    {
     "data": {
      "image/png": "[encoded data removed]",
      "text/plain": [
       "<Figure size 576x432 with 2 Axes>"
      ]
     },
     "metadata": {
      "needs_background": "light"
     },
     "output_type": "display_data"
    }
   ],
   "source": [
    "#Correlation between columns\n",
    "corr = data.drop('TARGET', axis=1).corr() \n",
    "plt.figure(figsize=(8, 6))\n",
    "sns.heatmap(corr, \n",
    "            cmap='viridis', vmax=1.0, vmin=-1.0, linewidths=0.1,\n",
    "            annot=False, annot_kws={\"size\": 8}, square=True)"
   ]
  },
  {
   "cell_type": "code",
   "execution_count": 39,
   "metadata": {},
   "outputs": [
    {
     "data": {
      "text/plain": [
       "DAYS_EMPLOYED                                       -0.130296\n",
       "CODE_GENDER_F                                       -0.117965\n",
       "NAME_EDUCATION_TYPE_Higher education                -0.092880\n",
       "OCCUPATION_TYPE_Accountants                         -0.091165\n",
       "MONTHS_BALANCE                                      -0.081008\n",
       "                                                       ...   \n",
       "NAME_EDUCATION_TYPE_Secondary / secondary special    0.094015\n",
       "REGION_RATING_CLIENT_W_CITY                          0.109135\n",
       "CODE_GENDER_M                                        0.117965\n",
       "TARGET                                               1.000000\n",
       "NAME_EDUCATION_TYPE_Academic degree                       NaN\n",
       "Name: TARGET, Length: 73, dtype: float64"
      ]
     },
     "execution_count": 39,
     "metadata": {},
     "output_type": "execute_result"
    }
   ],
   "source": [
    "#Find correlations with the target and sort\n",
    "correlations = data.corr()['TARGET'].sort_values()\n",
    "correlations"
   ]
  },
  {
   "cell_type": "code",
   "execution_count": 40,
   "metadata": {},
   "outputs": [],
   "source": [
    "#There is Nan in correlation means all value are zero \n",
    "del data['NAME_EDUCATION_TYPE_Academic degree']"
   ]
  },
  {
   "cell_type": "code",
   "execution_count": 41,
   "metadata": {},
   "outputs": [
    {
     "data": {
      "text/html": [
       "<div>\n",
       "<style scoped>\n",
       "    .dataframe tbody tr th:only-of-type {\n",
       "        vertical-align: middle;\n",
       "    }\n",
       "\n",
       "    .dataframe tbody tr th {\n",
       "        vertical-align: top;\n",
       "    }\n",
       "\n",
       "    .dataframe thead th {\n",
       "        text-align: right;\n",
       "    }\n",
       "</style>\n",
       "<table border=\"1\" class=\"dataframe\">\n",
       "  <thead>\n",
       "    <tr style=\"text-align: right;\">\n",
       "      <th></th>\n",
       "      <th>TARGET</th>\n",
       "      <th>AMT_INCOME_TOTAL</th>\n",
       "      <th>AMT_CREDIT_x</th>\n",
       "      <th>AMT_ANNUITY_x</th>\n",
       "      <th>AMT_GOODS_PRICE_x</th>\n",
       "      <th>REGION_POPULATION_RELATIVE</th>\n",
       "      <th>DAYS_BIRTH</th>\n",
       "      <th>DAYS_EMPLOYED</th>\n",
       "      <th>CNT_FAM_MEMBERS</th>\n",
       "      <th>REGION_RATING_CLIENT_W_CITY</th>\n",
       "      <th>...</th>\n",
       "      <th>OCCUPATION_TYPE_Secretaries</th>\n",
       "      <th>OCCUPATION_TYPE_Security staff</th>\n",
       "      <th>OCCUPATION_TYPE_Waiters/barmen staff</th>\n",
       "      <th>NAME_CONTRACT_STATUS_x_Active</th>\n",
       "      <th>NAME_CONTRACT_STATUS_x_Completed</th>\n",
       "      <th>NAME_CONTRACT_STATUS_x_Signed</th>\n",
       "      <th>NAME_CONTRACT_STATUS_y_Approved</th>\n",
       "      <th>NAME_CONTRACT_STATUS_y_Canceled</th>\n",
       "      <th>NAME_CONTRACT_STATUS_y_Refused</th>\n",
       "      <th>NAME_CONTRACT_STATUS_y_Unused offer</th>\n",
       "    </tr>\n",
       "  </thead>\n",
       "  <tbody>\n",
       "    <tr>\n",
       "      <th>0</th>\n",
       "      <td>1</td>\n",
       "      <td>157500</td>\n",
       "      <td>634482</td>\n",
       "      <td>24714</td>\n",
       "      <td>454500</td>\n",
       "      <td>0.024610</td>\n",
       "      <td>10081</td>\n",
       "      <td>889</td>\n",
       "      <td>2</td>\n",
       "      <td>2</td>\n",
       "      <td>...</td>\n",
       "      <td>0</td>\n",
       "      <td>0</td>\n",
       "      <td>0</td>\n",
       "      <td>1</td>\n",
       "      <td>0</td>\n",
       "      <td>0</td>\n",
       "      <td>1</td>\n",
       "      <td>0</td>\n",
       "      <td>0</td>\n",
       "      <td>0</td>\n",
       "    </tr>\n",
       "    <tr>\n",
       "      <th>1</th>\n",
       "      <td>1</td>\n",
       "      <td>108000</td>\n",
       "      <td>306306</td>\n",
       "      <td>16744</td>\n",
       "      <td>247500</td>\n",
       "      <td>0.031329</td>\n",
       "      <td>11439</td>\n",
       "      <td>1598</td>\n",
       "      <td>2</td>\n",
       "      <td>2</td>\n",
       "      <td>...</td>\n",
       "      <td>0</td>\n",
       "      <td>0</td>\n",
       "      <td>0</td>\n",
       "      <td>1</td>\n",
       "      <td>0</td>\n",
       "      <td>0</td>\n",
       "      <td>1</td>\n",
       "      <td>0</td>\n",
       "      <td>0</td>\n",
       "      <td>0</td>\n",
       "    </tr>\n",
       "  </tbody>\n",
       "</table>\n",
       "<p>2 rows × 72 columns</p>\n",
       "</div>"
      ],
      "text/plain": [
       "   TARGET  AMT_INCOME_TOTAL  AMT_CREDIT_x  AMT_ANNUITY_x  AMT_GOODS_PRICE_x  \\\n",
       "0       1            157500        634482          24714             454500   \n",
       "1       1            108000        306306          16744             247500   \n",
       "\n",
       "   REGION_POPULATION_RELATIVE  DAYS_BIRTH  DAYS_EMPLOYED  CNT_FAM_MEMBERS  \\\n",
       "0                    0.024610       10081            889                2   \n",
       "1                    0.031329       11439           1598                2   \n",
       "\n",
       "   REGION_RATING_CLIENT_W_CITY  ...  OCCUPATION_TYPE_Secretaries  \\\n",
       "0                            2  ...                            0   \n",
       "1                            2  ...                            0   \n",
       "\n",
       "   OCCUPATION_TYPE_Security staff  OCCUPATION_TYPE_Waiters/barmen staff  \\\n",
       "0                               0                                     0   \n",
       "1                               0                                     0   \n",
       "\n",
       "   NAME_CONTRACT_STATUS_x_Active  NAME_CONTRACT_STATUS_x_Completed  \\\n",
       "0                              1                                 0   \n",
       "1                              1                                 0   \n",
       "\n",
       "   NAME_CONTRACT_STATUS_x_Signed  NAME_CONTRACT_STATUS_y_Approved  \\\n",
       "0                              0                                1   \n",
       "1                              0                                1   \n",
       "\n",
       "   NAME_CONTRACT_STATUS_y_Canceled  NAME_CONTRACT_STATUS_y_Refused  \\\n",
       "0                                0                               0   \n",
       "1                                0                               0   \n",
       "\n",
       "   NAME_CONTRACT_STATUS_y_Unused offer  \n",
       "0                                    0  \n",
       "1                                    0  \n",
       "\n",
       "[2 rows x 72 columns]"
      ]
     },
     "execution_count": 41,
     "metadata": {},
     "output_type": "execute_result"
    }
   ],
   "source": [
    "data.head(2)"
   ]
  },
  {
   "cell_type": "code",
   "execution_count": 42,
   "metadata": {},
   "outputs": [
    {
     "name": "stdout",
     "output_type": "stream",
     "text": [
      "[6.61214312e-03 6.64844152e-03 6.24271785e-03 1.28654220e-02\n",
      " 9.15882026e-03 1.72609706e-02 8.42369160e-03 6.35279768e-03\n",
      " 3.72023714e-03 3.87961591e-03 1.34551201e-02 9.60449300e-03\n",
      " 6.01515753e-03 8.92261964e-03 1.89540650e-02 0.00000000e+00\n",
      " 2.67263841e-02 1.00437038e-02 8.07914621e-03 8.01614336e-03\n",
      " 9.17426715e-03 0.00000000e+00 5.68649359e-03 7.71024110e-03\n",
      " 9.43094289e-03 1.34045497e-02 8.19694928e-03 4.05352060e-03\n",
      " 9.66254933e-03 3.61906298e-03 8.91992815e-03 4.50245169e-03\n",
      " 1.21121673e-02 8.65102451e-03 3.39930478e-03 2.85088592e-03\n",
      " 2.24763256e-03 8.09907786e-03 1.17343223e-02 0.00000000e+00\n",
      " 5.30839048e-03 6.83961244e-03 6.53105963e-03 1.42160921e-04\n",
      " 1.42536778e-02 1.19305577e-06 0.00000000e+00 0.00000000e+00\n",
      " 0.00000000e+00 6.69844838e-03 2.41414827e-02 1.25270856e-03\n",
      " 0.00000000e+00 0.00000000e+00 2.73072458e-03 0.00000000e+00\n",
      " 1.83541448e-03 0.00000000e+00 0.00000000e+00 0.00000000e+00\n",
      " 1.70537942e-04 0.00000000e+00 3.15953890e-06 0.00000000e+00\n",
      " 8.49754822e-08 1.18828540e-06 0.00000000e+00 4.54956348e-02\n",
      " 2.25487541e-03 4.94375615e-02 5.08465023e-01]\n"
     ]
    },
    {
     "data": {
      "image/png": "[encoded data removed]",
      "text/plain": [
       "<Figure size 432x288 with 1 Axes>"
      ]
     },
     "metadata": {
      "needs_background": "light"
     },
     "output_type": "display_data"
    }
   ],
   "source": [
    "#Try to select best features (related to the target)\n",
    "X = data.iloc[:,1:73] \n",
    "#target column\n",
    "y = data.iloc[:,-1] \n",
    "\n",
    "from sklearn.ensemble import ExtraTreesClassifier\n",
    "model = ExtraTreesClassifier()\n",
    "model.fit(X,y)\n",
    "#use inbuilt class feature_importances of tree based classifiers\n",
    "print(model.feature_importances_) \n",
    "\n",
    "#plot graph of feature importances for better visualization\n",
    "feat_importances = pd.Series(model.feature_importances_, index=X.columns)\n",
    "feat_importances.nlargest(10).plot(kind='barh')\n",
    "plt.show()"
   ]
  },
  {
   "cell_type": "code",
   "execution_count": 43,
   "metadata": {},
   "outputs": [
    {
     "name": "stdout",
     "output_type": "stream",
     "text": [
      "                                      Specs          Score\n",
      "25                             AMT_CREDIT_y  703421.668210\n",
      "24                          AMT_APPLICATION  622600.141356\n",
      "26                        AMT_GOODS_PRICE_y  622600.141356\n",
      "14                     AMT_DRAWINGS_CURRENT  217107.234647\n",
      "3                         AMT_GOODS_PRICE_x  157262.828851\n",
      "1                              AMT_CREDIT_x  132284.431433\n",
      "16                 AMT_DRAWINGS_POS_CURRENT  115000.591219\n",
      "13                 AMT_DRAWINGS_ATM_CURRENT  110664.494544\n",
      "12                  AMT_CREDIT_LIMIT_ACTUAL   32038.251625\n",
      "23                            AMT_ANNUITY_y   23423.919037\n",
      "31                           AMT_INSTALMENT   14359.376070\n",
      "32                              AMT_PAYMENT   13271.602866\n",
      "18                AMT_PAYMENT_TOTAL_CURRENT   10049.714421\n",
      "11                              AMT_BALANCE   10039.615556\n",
      "19                     AMT_TOTAL_RECEIVABLE    8238.290187\n",
      "0                          AMT_INCOME_TOTAL    2840.773732\n",
      "70      NAME_CONTRACT_STATUS_y_Unused offer    1846.000000\n",
      "5                                DAYS_BIRTH    1444.979234\n",
      "2                             AMT_ANNUITY_x    1265.944186\n",
      "15               AMT_DRAWINGS_OTHER_CURRENT     883.228602\n",
      "17                  AMT_INST_MIN_REGULARITY     108.403440\n",
      "6                             DAYS_EMPLOYED      95.422411\n",
      "29                          DAYS_INSTALMENT      58.548227\n",
      "30                       DAYS_ENTRY_PAYMENT      57.878907\n",
      "28                    NUM_INSTALMENT_NUMBER      32.535944\n",
      "22                CNT_INSTALMENT_MATURE_CUM      21.617328\n",
      "38    NAME_EDUCATION_TYPE_Incomplete higher       6.542155\n",
      "44  NAME_FAMILY_STATUS_Single / not married       6.015797\n",
      "67          NAME_CONTRACT_STATUS_y_Approved       3.141928\n",
      "10                           MONTHS_BALANCE       2.343649\n",
      "20                 CNT_DRAWINGS_ATM_CURRENT       2.309404\n",
      "50                  OCCUPATION_TYPE_Drivers       1.995709\n",
      "33                            CODE_GENDER_F       1.364606\n",
      "42               NAME_FAMILY_STATUS_Married       1.306410\n",
      "49               OCCUPATION_TYPE_Core staff       1.239250\n",
      "35                        FLAG_OWN_REALTY_N       1.113759\n",
      "41        NAME_FAMILY_STATUS_Civil marriage       0.960711\n",
      "34                            CODE_GENDER_M       0.861603\n",
      "69           NAME_CONTRACT_STATUS_y_Refused       0.838570\n",
      "7                           CNT_FAM_MEMBERS       0.784288\n"
     ]
    }
   ],
   "source": [
    "#Try to select best features (related to target)\n",
    "from sklearn.feature_selection import SelectKBest\n",
    "from sklearn.feature_selection import chi2\n",
    "\n",
    "#apply SelectKBest class to extract top 40 best features\n",
    "bestfeatures = SelectKBest(score_func=chi2, k=40)\n",
    "fit = bestfeatures.fit(X,y)\n",
    "dfscores = pd.DataFrame(fit.scores_)\n",
    "dfcolumns = pd.DataFrame(X.columns)\n",
    "\n",
    "#concat two dataframes for better visualization \n",
    "featureScores = pd.concat([dfcolumns,dfscores],axis=1)\n",
    "#naming the dataframe columns\n",
    "featureScores.columns = ['Specs','Score'] \n",
    "#print 40 best features\n",
    "L=featureScores.nlargest(40,'Score')\n",
    "print(L) "
   ]
  },
  {
   "cell_type": "code",
   "execution_count": 44,
   "metadata": {},
   "outputs": [
    {
     "data": {
      "text/plain": [
       "25                               AMT_CREDIT_y\n",
       "24                            AMT_APPLICATION\n",
       "26                          AMT_GOODS_PRICE_y\n",
       "14                       AMT_DRAWINGS_CURRENT\n",
       "3                           AMT_GOODS_PRICE_x\n",
       "1                                AMT_CREDIT_x\n",
       "16                   AMT_DRAWINGS_POS_CURRENT\n",
       "13                   AMT_DRAWINGS_ATM_CURRENT\n",
       "12                    AMT_CREDIT_LIMIT_ACTUAL\n",
       "23                              AMT_ANNUITY_y\n",
       "31                             AMT_INSTALMENT\n",
       "32                                AMT_PAYMENT\n",
       "18                  AMT_PAYMENT_TOTAL_CURRENT\n",
       "11                                AMT_BALANCE\n",
       "19                       AMT_TOTAL_RECEIVABLE\n",
       "0                            AMT_INCOME_TOTAL\n",
       "70        NAME_CONTRACT_STATUS_y_Unused offer\n",
       "5                                  DAYS_BIRTH\n",
       "2                               AMT_ANNUITY_x\n",
       "15                 AMT_DRAWINGS_OTHER_CURRENT\n",
       "17                    AMT_INST_MIN_REGULARITY\n",
       "6                               DAYS_EMPLOYED\n",
       "29                            DAYS_INSTALMENT\n",
       "30                         DAYS_ENTRY_PAYMENT\n",
       "28                      NUM_INSTALMENT_NUMBER\n",
       "22                  CNT_INSTALMENT_MATURE_CUM\n",
       "38      NAME_EDUCATION_TYPE_Incomplete higher\n",
       "44    NAME_FAMILY_STATUS_Single / not married\n",
       "67            NAME_CONTRACT_STATUS_y_Approved\n",
       "10                             MONTHS_BALANCE\n",
       "20                   CNT_DRAWINGS_ATM_CURRENT\n",
       "50                    OCCUPATION_TYPE_Drivers\n",
       "33                              CODE_GENDER_F\n",
       "42                 NAME_FAMILY_STATUS_Married\n",
       "49                 OCCUPATION_TYPE_Core staff\n",
       "35                          FLAG_OWN_REALTY_N\n",
       "41          NAME_FAMILY_STATUS_Civil marriage\n",
       "34                              CODE_GENDER_M\n",
       "69             NAME_CONTRACT_STATUS_y_Refused\n",
       "7                             CNT_FAM_MEMBERS\n",
       "Name: Specs, dtype: object"
      ]
     },
     "execution_count": 44,
     "metadata": {},
     "output_type": "execute_result"
    }
   ],
   "source": [
    "L['Specs']"
   ]
  },
  {
   "cell_type": "code",
   "execution_count": 45,
   "metadata": {},
   "outputs": [],
   "source": [
    "#Select the 40 highest correlated columns to TARGET\n",
    "data=data[['TARGET', 'AMT_CREDIT_y', 'AMT_APPLICATION', 'AMT_GOODS_PRICE_y','AMT_DRAWINGS_CURRENT', 'AMT_DRAWINGS_POS_CURRENT', \n",
    "               'AMT_DRAWINGS_ATM_CURRENT', 'AMT_GOODS_PRICE_x', 'AMT_CREDIT_LIMIT_ACTUAL', 'AMT_INSTALMENT', \n",
    "               'AMT_PAYMENT', 'AMT_PAYMENT_TOTAL_CURRENT', 'AMT_INCOME_TOTAL', 'AMT_ANNUITY_y', \n",
    "               'AMT_TOTAL_RECEIVABLE', 'AMT_CREDIT_x', 'AMT_BALANCE', 'AMT_INST_MIN_REGULARITY', \n",
    "               'AMT_ANNUITY_x', 'NAME_CONTRACT_STATUS_y_Unused offer', 'DAYS_BIRTH', 'DAYS_EMPLOYED', \n",
    "               'AMT_DRAWINGS_OTHER_CURRENT', 'DAYS_ENTRY_PAYMENT', 'DAYS_INSTALMENT', 'NUM_INSTALMENT_NUMBER', \n",
    "               'MONTHS_BALANCE', 'CNT_INSTALMENT_MATURE_CUM', 'OCCUPATION_TYPE_Accountants', 'NAME_CONTRACT_STATUS_y_Approved', \n",
    "               'NAME_EDUCATION_TYPE_Incomplete higher', 'CODE_GENDER_F', 'CNT_DRAWINGS_ATM_CURRENT', 'NO_REQ_CREDIT_BUREAU_YEAR',\n",
    "               'CODE_GENDER_M', 'OCCUPATION_TYPE_Laborers', 'FLAG_OWN_REALTY_N', 'OCCUPATION_TYPE_Drivers', \n",
    "               'NAME_CONTRACT_STATUS_y_Refused', 'NAME_EDUCATION_TYPE_Higher education', 'NAME_EDUCATION_TYPE_Secondary / secondary special'\n",
    "              ]]"
   ]
  },
  {
   "cell_type": "code",
   "execution_count": 46,
   "metadata": {},
   "outputs": [
    {
     "data": {
      "text/plain": [
       "(1850, 41)"
      ]
     },
     "execution_count": 46,
     "metadata": {},
     "output_type": "execute_result"
    }
   ],
   "source": [
    "#Examine the shape of dataset\n",
    "data.shape"
   ]
  },
  {
   "cell_type": "code",
   "execution_count": 47,
   "metadata": {},
   "outputs": [],
   "source": [
    "#Select features that unique value is more than just one value\n",
    "data = data.loc[:,data.apply(pd.Series.nunique) != 1]"
   ]
  },
  {
   "cell_type": "code",
   "execution_count": 48,
   "metadata": {},
   "outputs": [
    {
     "name": "stdout",
     "output_type": "stream",
     "text": [
      "0    1000\n",
      "1     850\n",
      "Name: TARGET, dtype: int64\n",
      "0    1846\n",
      "1       4\n",
      "Name: NAME_CONTRACT_STATUS_y_Unused offer, dtype: int64\n",
      "0.0         1847\n",
      "266220.0       1\n",
      "45000.0        1\n",
      "96390.0        1\n",
      "Name: AMT_DRAWINGS_OTHER_CURRENT, dtype: int64\n",
      "0    1798\n",
      "1      52\n",
      "Name: OCCUPATION_TYPE_Accountants, dtype: int64\n",
      "1    1450\n",
      "0     400\n",
      "Name: NAME_CONTRACT_STATUS_y_Approved, dtype: int64\n",
      "0    1795\n",
      "1      55\n",
      "Name: NAME_EDUCATION_TYPE_Incomplete higher, dtype: int64\n",
      "0    1134\n",
      "1     716\n",
      "Name: CODE_GENDER_F, dtype: int64\n",
      "0.0     1499\n",
      "1.0      181\n",
      "2.0       69\n",
      "3.0       37\n",
      "4.0       20\n",
      "5.0       14\n",
      "6.0        8\n",
      "7.0        5\n",
      "10.0       5\n",
      "12.0       3\n",
      "8.0        2\n",
      "18.0       1\n",
      "19.0       1\n",
      "15.0       1\n",
      "16.0       1\n",
      "13.0       1\n",
      "26.0       1\n",
      "9.0        1\n",
      "Name: CNT_DRAWINGS_ATM_CURRENT, dtype: int64\n",
      "3     392\n",
      "2     355\n",
      "4     280\n",
      "1     217\n",
      "5     192\n",
      "6     133\n",
      "0      99\n",
      "7      75\n",
      "8      46\n",
      "9      21\n",
      "10     13\n",
      "11     13\n",
      "13      4\n",
      "12      3\n",
      "21      1\n",
      "14      1\n",
      "15      1\n",
      "16      1\n",
      "17      1\n",
      "19      1\n",
      "23      1\n",
      "Name: NO_REQ_CREDIT_BUREAU_YEAR, dtype: int64\n",
      "1    1134\n",
      "0     716\n",
      "Name: CODE_GENDER_M, dtype: int64\n",
      "0    1316\n",
      "1     534\n",
      "Name: OCCUPATION_TYPE_Laborers, dtype: int64\n",
      "0    1336\n",
      "1     514\n",
      "Name: FLAG_OWN_REALTY_N, dtype: int64\n",
      "0    1496\n",
      "1     354\n",
      "Name: OCCUPATION_TYPE_Drivers, dtype: int64\n",
      "0    1463\n",
      "1     387\n",
      "Name: NAME_CONTRACT_STATUS_y_Refused, dtype: int64\n",
      "0    1470\n",
      "1     380\n",
      "Name: NAME_EDUCATION_TYPE_Higher education, dtype: int64\n",
      "1    1399\n",
      "0     451\n",
      "Name: NAME_EDUCATION_TYPE_Secondary / secondary special, dtype: int64\n",
      "\n"
     ]
    }
   ],
   "source": [
    "#Print columns that for each unique value have less than 50 rows\n",
    "for col in data.columns:\n",
    "    if (len(data[col].unique()) <= 50):\n",
    "        print(data[col].value_counts())\n",
    "print()"
   ]
  },
  {
   "cell_type": "code",
   "execution_count": 49,
   "metadata": {},
   "outputs": [
    {
     "name": "stdout",
     "output_type": "stream",
     "text": [
      "41\n",
      "We've been able to reduce the features to => 40\n"
     ]
    }
   ],
   "source": [
    "#Drop the feature with less than 50 rows for one value\n",
    "print(data.shape[1])\n",
    "data= data.drop('NAME_CONTRACT_STATUS_y_Unused offer', axis=1)\n",
    "print(\"We've been able to reduce the features to => {}\".format(data.shape[1]))"
   ]
  },
  {
   "cell_type": "code",
   "execution_count": 50,
   "metadata": {},
   "outputs": [
    {
     "name": "stdout",
     "output_type": "stream",
     "text": [
      "40\n",
      "We've been able to reduce the features to => 39\n"
     ]
    }
   ],
   "source": [
    "#Drop the feature with less than 50 rows for one value\n",
    "print(data.shape[1])\n",
    "data= data.drop('AMT_DRAWINGS_OTHER_CURRENT', axis=1)\n",
    "print(\"We've been able to reduce the features to => {}\".format(data.shape[1]))"
   ]
  },
  {
   "cell_type": "code",
   "execution_count": 51,
   "metadata": {},
   "outputs": [],
   "source": [
    "#Lets seperate target column\n",
    "data_target=data[['TARGET']]"
   ]
  },
  {
   "cell_type": "code",
   "execution_count": 52,
   "metadata": {},
   "outputs": [],
   "source": [
    "#Drop the TARGET column\n",
    "data_numeric=data.drop(columns=['TARGET'])"
   ]
  },
  {
   "cell_type": "markdown",
   "metadata": {},
   "source": [
    "# Normalize final data and call it data_numeric_norm"
   ]
  },
  {
   "cell_type": "code",
   "execution_count": 53,
   "metadata": {},
   "outputs": [],
   "source": [
    "#Apply MinMaxScaler to have a uniform dataset\n",
    "from sklearn import preprocessing\n",
    "\n",
    "data_numeric_float=data_numeric.values.astype(float)\n",
    "#Create a min max processor object\n",
    "min_max_scaler = preprocessing.MinMaxScaler()\n",
    "\n",
    "#Create an object to transform the data to fit minmax processor\n",
    "data_numeric_float_transformed = min_max_scaler.fit_transform(data_numeric_float)\n",
    "\n",
    "#Save the transformed data into a DataFrame\n",
    "data_numeric_norm= pd.DataFrame(data_numeric_float_transformed)\n"
   ]
  },
  {
   "cell_type": "markdown",
   "metadata": {},
   "source": [
    "# Extract data and its normalized with the target"
   ]
  },
  {
   "cell_type": "code",
   "execution_count": 54,
   "metadata": {},
   "outputs": [],
   "source": [
    "#Save data_numeric_norm as a csv file\n",
    "data_numeric_norm.to_csv (r'C:\\Users\\User\\Desktop\\A_Thesis\\Dataset\\Dataset_CSV\\data_numeric_norm.csv', index = False, header=True)"
   ]
  },
  {
   "cell_type": "code",
   "execution_count": 55,
   "metadata": {},
   "outputs": [],
   "source": [
    "data.to_csv (r'C:\\Users\\User\\Desktop\\A_Thesis\\Dataset\\Dataset_CSV\\data.csv', index = False, header=True)"
   ]
  },
  {
   "cell_type": "code",
   "execution_count": 56,
   "metadata": {},
   "outputs": [],
   "source": [
    "#Save data_target as a csv file\n",
    "data_target.to_csv (r'C:\\Users\\User\\Desktop\\A_Thesis\\Dataset\\Dataset_CSV\\data_target.csv', index = False, header=True)"
   ]
  },
  {
   "cell_type": "markdown",
   "metadata": {},
   "source": [
    "# Exploratory Data Analysis"
   ]
  },
  {
   "cell_type": "code",
   "execution_count": 57,
   "metadata": {},
   "outputs": [
    {
     "data": {
      "text/plain": [
       "[Text(0.5, 0, 'TARGET'),\n",
       " Text(2.5, 0, 'AMT_APPLICATION'),\n",
       " Text(4.5, 0, 'AMT_DRAWINGS_CURRENT'),\n",
       " Text(6.5, 0, 'AMT_DRAWINGS_ATM_CURRENT'),\n",
       " Text(8.5, 0, 'AMT_CREDIT_LIMIT_ACTUAL'),\n",
       " Text(10.5, 0, 'AMT_PAYMENT'),\n",
       " Text(12.5, 0, 'AMT_INCOME_TOTAL'),\n",
       " Text(14.5, 0, 'AMT_TOTAL_RECEIVABLE'),\n",
       " Text(16.5, 0, 'AMT_BALANCE'),\n",
       " Text(18.5, 0, 'AMT_ANNUITY_x'),\n",
       " Text(20.5, 0, 'DAYS_EMPLOYED'),\n",
       " Text(22.5, 0, 'DAYS_INSTALMENT'),\n",
       " Text(24.5, 0, 'MONTHS_BALANCE'),\n",
       " Text(26.5, 0, 'OCCUPATION_TYPE_Accountants'),\n",
       " Text(28.5, 0, 'NAME_EDUCATION_TYPE_Incomplete higher'),\n",
       " Text(30.5, 0, 'CNT_DRAWINGS_ATM_CURRENT'),\n",
       " Text(32.5, 0, 'CODE_GENDER_M'),\n",
       " Text(34.5, 0, 'FLAG_OWN_REALTY_N'),\n",
       " Text(36.5, 0, 'NAME_CONTRACT_STATUS_y_Refused'),\n",
       " Text(38.5, 0, 'NAME_EDUCATION_TYPE_Secondary / secondary special')]"
      ]
     },
     "execution_count": 57,
     "metadata": {},
     "output_type": "execute_result"
    },
    {
     "data": {
      "image/png": "[encoded data removed]",
      "text/plain": [
       "<Figure size 432x288 with 2 Axes>"
      ]
     },
     "metadata": {
      "needs_background": "light"
     },
     "output_type": "display_data"
    }
   ],
   "source": [
    "#Correlation between features\n",
    "corr = data.corr()\n",
    "ax = sns.heatmap(corr,vmin=-1, vmax=1, center=0,cmap=sns.diverging_palette(20, 220, n=250),square=True)\n",
    "ax.set_xticklabels(ax.get_xticklabels(),rotation=45,horizontalalignment='right')"
   ]
  },
  {
   "cell_type": "code",
   "execution_count": 58,
   "metadata": {},
   "outputs": [
    {
     "data": {
      "text/html": [
       "<div>\n",
       "<style scoped>\n",
       "    .dataframe tbody tr th:only-of-type {\n",
       "        vertical-align: middle;\n",
       "    }\n",
       "\n",
       "    .dataframe tbody tr th {\n",
       "        vertical-align: top;\n",
       "    }\n",
       "\n",
       "    .dataframe thead th {\n",
       "        text-align: right;\n",
       "    }\n",
       "</style>\n",
       "<table border=\"1\" class=\"dataframe\">\n",
       "  <thead>\n",
       "    <tr style=\"text-align: right;\">\n",
       "      <th></th>\n",
       "      <th>TARGET</th>\n",
       "      <th>AMT_CREDIT_y</th>\n",
       "      <th>AMT_APPLICATION</th>\n",
       "      <th>AMT_GOODS_PRICE_y</th>\n",
       "      <th>AMT_DRAWINGS_CURRENT</th>\n",
       "      <th>AMT_DRAWINGS_POS_CURRENT</th>\n",
       "      <th>AMT_DRAWINGS_ATM_CURRENT</th>\n",
       "      <th>AMT_GOODS_PRICE_x</th>\n",
       "      <th>AMT_CREDIT_LIMIT_ACTUAL</th>\n",
       "      <th>AMT_INSTALMENT</th>\n",
       "      <th>...</th>\n",
       "      <th>CODE_GENDER_F</th>\n",
       "      <th>CNT_DRAWINGS_ATM_CURRENT</th>\n",
       "      <th>NO_REQ_CREDIT_BUREAU_YEAR</th>\n",
       "      <th>CODE_GENDER_M</th>\n",
       "      <th>OCCUPATION_TYPE_Laborers</th>\n",
       "      <th>FLAG_OWN_REALTY_N</th>\n",
       "      <th>OCCUPATION_TYPE_Drivers</th>\n",
       "      <th>NAME_CONTRACT_STATUS_y_Refused</th>\n",
       "      <th>NAME_EDUCATION_TYPE_Higher education</th>\n",
       "      <th>NAME_EDUCATION_TYPE_Secondary / secondary special</th>\n",
       "    </tr>\n",
       "  </thead>\n",
       "  <tbody>\n",
       "    <tr>\n",
       "      <th>0</th>\n",
       "      <td>1</td>\n",
       "      <td>160173.0</td>\n",
       "      <td>160173.0</td>\n",
       "      <td>160173.0</td>\n",
       "      <td>1546.20</td>\n",
       "      <td>1546.20</td>\n",
       "      <td>0.0</td>\n",
       "      <td>454500</td>\n",
       "      <td>225000</td>\n",
       "      <td>14934.60</td>\n",
       "      <td>...</td>\n",
       "      <td>0</td>\n",
       "      <td>0.0</td>\n",
       "      <td>10</td>\n",
       "      <td>1</td>\n",
       "      <td>1</td>\n",
       "      <td>0</td>\n",
       "      <td>0</td>\n",
       "      <td>0</td>\n",
       "      <td>0</td>\n",
       "      <td>1</td>\n",
       "    </tr>\n",
       "    <tr>\n",
       "      <th>1</th>\n",
       "      <td>1</td>\n",
       "      <td>94405.5</td>\n",
       "      <td>101695.5</td>\n",
       "      <td>101695.5</td>\n",
       "      <td>517.50</td>\n",
       "      <td>517.50</td>\n",
       "      <td>0.0</td>\n",
       "      <td>247500</td>\n",
       "      <td>180000</td>\n",
       "      <td>13479.21</td>\n",
       "      <td>...</td>\n",
       "      <td>1</td>\n",
       "      <td>0.0</td>\n",
       "      <td>3</td>\n",
       "      <td>0</td>\n",
       "      <td>0</td>\n",
       "      <td>0</td>\n",
       "      <td>0</td>\n",
       "      <td>0</td>\n",
       "      <td>0</td>\n",
       "      <td>1</td>\n",
       "    </tr>\n",
       "    <tr>\n",
       "      <th>2</th>\n",
       "      <td>1</td>\n",
       "      <td>45000.0</td>\n",
       "      <td>45000.0</td>\n",
       "      <td>45000.0</td>\n",
       "      <td>27880.65</td>\n",
       "      <td>27880.65</td>\n",
       "      <td>0.0</td>\n",
       "      <td>711000</td>\n",
       "      <td>45000</td>\n",
       "      <td>27760.86</td>\n",
       "      <td>...</td>\n",
       "      <td>0</td>\n",
       "      <td>0.0</td>\n",
       "      <td>4</td>\n",
       "      <td>1</td>\n",
       "      <td>1</td>\n",
       "      <td>0</td>\n",
       "      <td>0</td>\n",
       "      <td>0</td>\n",
       "      <td>0</td>\n",
       "      <td>1</td>\n",
       "    </tr>\n",
       "  </tbody>\n",
       "</table>\n",
       "<p>3 rows × 39 columns</p>\n",
       "</div>"
      ],
      "text/plain": [
       "   TARGET  AMT_CREDIT_y  AMT_APPLICATION  AMT_GOODS_PRICE_y  \\\n",
       "0       1      160173.0         160173.0           160173.0   \n",
       "1       1       94405.5         101695.5           101695.5   \n",
       "2       1       45000.0          45000.0            45000.0   \n",
       "\n",
       "   AMT_DRAWINGS_CURRENT  AMT_DRAWINGS_POS_CURRENT  AMT_DRAWINGS_ATM_CURRENT  \\\n",
       "0               1546.20                   1546.20                       0.0   \n",
       "1                517.50                    517.50                       0.0   \n",
       "2              27880.65                  27880.65                       0.0   \n",
       "\n",
       "   AMT_GOODS_PRICE_x  AMT_CREDIT_LIMIT_ACTUAL  AMT_INSTALMENT  ...  \\\n",
       "0             454500                   225000        14934.60  ...   \n",
       "1             247500                   180000        13479.21  ...   \n",
       "2             711000                    45000        27760.86  ...   \n",
       "\n",
       "   CODE_GENDER_F  CNT_DRAWINGS_ATM_CURRENT  NO_REQ_CREDIT_BUREAU_YEAR  \\\n",
       "0              0                       0.0                         10   \n",
       "1              1                       0.0                          3   \n",
       "2              0                       0.0                          4   \n",
       "\n",
       "   CODE_GENDER_M  OCCUPATION_TYPE_Laborers  FLAG_OWN_REALTY_N  \\\n",
       "0              1                         1                  0   \n",
       "1              0                         0                  0   \n",
       "2              1                         1                  0   \n",
       "\n",
       "   OCCUPATION_TYPE_Drivers  NAME_CONTRACT_STATUS_y_Refused  \\\n",
       "0                        0                               0   \n",
       "1                        0                               0   \n",
       "2                        0                               0   \n",
       "\n",
       "   NAME_EDUCATION_TYPE_Higher education  \\\n",
       "0                                     0   \n",
       "1                                     0   \n",
       "2                                     0   \n",
       "\n",
       "   NAME_EDUCATION_TYPE_Secondary / secondary special  \n",
       "0                                                  1  \n",
       "1                                                  1  \n",
       "2                                                  1  \n",
       "\n",
       "[3 rows x 39 columns]"
      ]
     },
     "execution_count": 58,
     "metadata": {},
     "output_type": "execute_result"
    }
   ],
   "source": [
    "data.head(3)"
   ]
  },
  {
   "cell_type": "code",
   "execution_count": 59,
   "metadata": {},
   "outputs": [
    {
     "name": "stdout",
     "output_type": "stream",
     "text": [
      "DAYS_EMPLOYED                          -0.130296\n",
      "CODE_GENDER_F                          -0.117965\n",
      "NAME_EDUCATION_TYPE_Higher education   -0.092880\n",
      "OCCUPATION_TYPE_Accountants            -0.091165\n",
      "MONTHS_BALANCE                         -0.081008\n",
      "Name: TARGET, dtype: float64 CNT_DRAWINGS_ATM_CURRENT                             0.052404\n",
      "AMT_DRAWINGS_ATM_CURRENT                             0.064556\n",
      "OCCUPATION_TYPE_Drivers                              0.083690\n",
      "NAME_EDUCATION_TYPE_Secondary / secondary special    0.094015\n",
      "CODE_GENDER_M                                        0.117965\n",
      "TARGET                                               1.000000\n",
      "Name: TARGET, dtype: float64\n"
     ]
    }
   ],
   "source": [
    "#Find correlations with the target and sort\n",
    "correlations = data.corr()['TARGET'].sort_values()\n",
    "print(correlations.head(5), correlations.tail(6))"
   ]
  },
  {
   "cell_type": "code",
   "execution_count": 62,
   "metadata": {},
   "outputs": [],
   "source": [
    "#Make the top ten feature as seperate table\n",
    "Top_ten=pd.DataFrame(index=[1,2,3,4,5,6,7,8,9,10], columns = ['Top_corr_features','Top_corr_scores'] )"
   ]
  },
  {
   "cell_type": "code",
   "execution_count": 63,
   "metadata": {},
   "outputs": [],
   "source": [
    "#Define columns of that table\n",
    "Top_ten['Top_corr_features']=['DAYS_EMPLOYED', 'CODE_GENDER_F','EDUCATION_TYPE_Higher education','OCCUPATION_TYPE_Accountants',\n",
    "                  'MONTHS_BALANCE', 'CODE_GENDER_M','EDUCATION_TYPE_Secondary','OCCUPATION_TYPE_Drivers',\n",
    "                  'AMT_DRAWINGS_ATM_CURRENT','CNT_DRAWINGS_ATM_CURRENT']\n",
    "Top_ten['Top_corr_scores']=[-0.130296,-0.117965,-0.092880, -0.091165, -0.081008,0.117965,0.094015,0.083690,0.064556,0.052404]"
   ]
  },
  {
   "cell_type": "code",
   "execution_count": 64,
   "metadata": {},
   "outputs": [
    {
     "data": {
      "text/html": [
       "<div>\n",
       "<style scoped>\n",
       "    .dataframe tbody tr th:only-of-type {\n",
       "        vertical-align: middle;\n",
       "    }\n",
       "\n",
       "    .dataframe tbody tr th {\n",
       "        vertical-align: top;\n",
       "    }\n",
       "\n",
       "    .dataframe thead th {\n",
       "        text-align: right;\n",
       "    }\n",
       "</style>\n",
       "<table border=\"1\" class=\"dataframe\">\n",
       "  <thead>\n",
       "    <tr style=\"text-align: right;\">\n",
       "      <th></th>\n",
       "      <th>Top_corr_features</th>\n",
       "      <th>Top_corr_scores</th>\n",
       "    </tr>\n",
       "  </thead>\n",
       "  <tbody>\n",
       "    <tr>\n",
       "      <th>1</th>\n",
       "      <td>DAYS_EMPLOYED</td>\n",
       "      <td>-0.130296</td>\n",
       "    </tr>\n",
       "    <tr>\n",
       "      <th>2</th>\n",
       "      <td>CODE_GENDER_F</td>\n",
       "      <td>-0.117965</td>\n",
       "    </tr>\n",
       "    <tr>\n",
       "      <th>3</th>\n",
       "      <td>EDUCATION_TYPE_Higher education</td>\n",
       "      <td>-0.092880</td>\n",
       "    </tr>\n",
       "    <tr>\n",
       "      <th>4</th>\n",
       "      <td>OCCUPATION_TYPE_Accountants</td>\n",
       "      <td>-0.091165</td>\n",
       "    </tr>\n",
       "    <tr>\n",
       "      <th>5</th>\n",
       "      <td>MONTHS_BALANCE</td>\n",
       "      <td>-0.081008</td>\n",
       "    </tr>\n",
       "    <tr>\n",
       "      <th>6</th>\n",
       "      <td>CODE_GENDER_M</td>\n",
       "      <td>0.117965</td>\n",
       "    </tr>\n",
       "    <tr>\n",
       "      <th>7</th>\n",
       "      <td>EDUCATION_TYPE_Secondary</td>\n",
       "      <td>0.094015</td>\n",
       "    </tr>\n",
       "    <tr>\n",
       "      <th>8</th>\n",
       "      <td>OCCUPATION_TYPE_Drivers</td>\n",
       "      <td>0.083690</td>\n",
       "    </tr>\n",
       "    <tr>\n",
       "      <th>9</th>\n",
       "      <td>AMT_DRAWINGS_ATM_CURRENT</td>\n",
       "      <td>0.064556</td>\n",
       "    </tr>\n",
       "    <tr>\n",
       "      <th>10</th>\n",
       "      <td>CNT_DRAWINGS_ATM_CURRENT</td>\n",
       "      <td>0.052404</td>\n",
       "    </tr>\n",
       "  </tbody>\n",
       "</table>\n",
       "</div>"
      ],
      "text/plain": [
       "                  Top_corr_features  Top_corr_scores\n",
       "1                     DAYS_EMPLOYED        -0.130296\n",
       "2                     CODE_GENDER_F        -0.117965\n",
       "3   EDUCATION_TYPE_Higher education        -0.092880\n",
       "4       OCCUPATION_TYPE_Accountants        -0.091165\n",
       "5                    MONTHS_BALANCE        -0.081008\n",
       "6                     CODE_GENDER_M         0.117965\n",
       "7          EDUCATION_TYPE_Secondary         0.094015\n",
       "8           OCCUPATION_TYPE_Drivers         0.083690\n",
       "9          AMT_DRAWINGS_ATM_CURRENT         0.064556\n",
       "10         CNT_DRAWINGS_ATM_CURRENT         0.052404"
      ]
     },
     "execution_count": 64,
     "metadata": {},
     "output_type": "execute_result"
    }
   ],
   "source": [
    "Top_ten"
   ]
  },
  {
   "cell_type": "code",
   "execution_count": 65,
   "metadata": {},
   "outputs": [
    {
     "data": {
      "text/plain": [
       "<matplotlib.axes._subplots.AxesSubplot at 0x296ea8f81c8>"
      ]
     },
     "execution_count": 65,
     "metadata": {},
     "output_type": "execute_result"
    },
    {
     "data": {
      "image/png": "[encoded data removed]",
      "text/plain": [
       "<Figure size 720x432 with 1 Axes>"
      ]
     },
     "metadata": {
      "needs_background": "light"
     },
     "output_type": "display_data"
    }
   ],
   "source": [
    "#Create the bar  chart of the ten top correlated features\n",
    "Top_ten.plot(kind='bar', stacked=False, grid=True, figsize=(10,6))"
   ]
  },
  {
   "cell_type": "code",
   "execution_count": 66,
   "metadata": {},
   "outputs": [],
   "source": [
    "#Save Top_ten as a csv file\n",
    "Top_ten.to_csv (r'C:\\Users\\User\\Desktop\\A_Thesis\\Dataset\\Dataset_CSV\\Top_ten.csv', index = False, header=True)"
   ]
  },
  {
   "cell_type": "code",
   "execution_count": 67,
   "metadata": {},
   "outputs": [
    {
     "data": {
      "text/plain": [
       "count    1850.000000\n",
       "mean       40.050762\n",
       "std         8.878242\n",
       "min        21.731507\n",
       "25%        32.750685\n",
       "50%        39.010959\n",
       "75%        46.617808\n",
       "max        64.654795\n",
       "Name: DAYS_BIRTH, dtype: float64"
      ]
     },
     "execution_count": 67,
     "metadata": {},
     "output_type": "execute_result"
    }
   ],
   "source": [
    "#Describtion of DAYS_BIRTH\n",
    "(data['DAYS_BIRTH'] / 365).describe()"
   ]
  },
  {
   "cell_type": "code",
   "execution_count": 68,
   "metadata": {},
   "outputs": [
    {
     "data": {
      "text/plain": [
       "count    1850.000000\n",
       "mean        5.465521\n",
       "std         4.511542\n",
       "min         0.194521\n",
       "25%         2.023288\n",
       "50%         4.182192\n",
       "75%         7.706849\n",
       "max        23.402740\n",
       "Name: DAYS_EMPLOYED, dtype: float64"
      ]
     },
     "execution_count": 68,
     "metadata": {},
     "output_type": "execute_result"
    }
   ],
   "source": [
    "#Describtion of DAYS_EMPLOYED\n",
    "(data['DAYS_EMPLOYED'] / 365).describe()"
   ]
  },
  {
   "cell_type": "code",
   "execution_count": 69,
   "metadata": {},
   "outputs": [
    {
     "name": "stderr",
     "output_type": "stream",
     "text": [
      "C:\\Anaconda3\\envs\\leila-gpu\\lib\\site-packages\\ipykernel_launcher.py:3: SettingWithCopyWarning: \n",
      "A value is trying to be set on a copy of a slice from a DataFrame.\n",
      "Try using .loc[row_indexer,col_indexer] = value instead\n",
      "\n",
      "See the caveats in the documentation: https://pandas.pydata.org/pandas-docs/stable/user_guide/indexing.html#returning-a-view-versus-a-copy\n",
      "  This is separate from the ipykernel package so we can avoid doing imports until\n",
      "C:\\Anaconda3\\envs\\leila-gpu\\lib\\site-packages\\ipykernel_launcher.py:4: SettingWithCopyWarning: \n",
      "A value is trying to be set on a copy of a slice from a DataFrame.\n",
      "Try using .loc[row_indexer,col_indexer] = value instead\n",
      "\n",
      "See the caveats in the documentation: https://pandas.pydata.org/pandas-docs/stable/user_guide/indexing.html#returning-a-view-versus-a-copy\n",
      "  after removing the cwd from sys.path.\n"
     ]
    }
   ],
   "source": [
    "# Age and target in seperate table to compare\n",
    "data_group = data[['TARGET', 'DAYS_BIRTH','DAYS_EMPLOYED','CODE_GENDER_M', 'AMT_APPLICATION','OCCUPATION_TYPE_Accountants']]\n",
    "data_group['YEARS_BIRTH'] = data_group['DAYS_BIRTH'] / 365\n",
    "data_group['YEARS_EMPLOYED'] = data_group['DAYS_EMPLOYED'] / 365"
   ]
  },
  {
   "cell_type": "code",
   "execution_count": 70,
   "metadata": {},
   "outputs": [
    {
     "data": {
      "image/png": "[encoded data removed]",
      "text/plain": [
       "<Figure size 720x1152 with 4 Axes>"
      ]
     },
     "metadata": {
      "needs_background": "light"
     },
     "output_type": "display_data"
    }
   ],
   "source": [
    "#Draw density distribution of 4 features\n",
    "plt.figure(figsize = (10, 16))\n",
    "#iterate through the new features\n",
    "for i, feature in enumerate(['YEARS_BIRTH','YEARS_EMPLOYED','CODE_GENDER_M', 'AMT_APPLICATION']):\n",
    "    \n",
    "    #create a new subplot for each source\n",
    "    plt.subplot(4, 2, i + 1)\n",
    "    #plot repaid loans\n",
    "    sns.kdeplot(data_group.loc[data_group['TARGET'] == 0, feature], label = 'target == 0')\n",
    "    #plot loans that were not repaid\n",
    "    sns.kdeplot(data_group.loc[data_group['TARGET'] == 1, feature], label = 'target == 1')\n",
    "    \n",
    "    #Label the plots\n",
    "    plt.title('Distribution of %s by Target Value' % feature)\n",
    "    plt.xlabel('%s' % feature); plt.ylabel('Density');\n",
    "    \n",
    "plt.tight_layout(h_pad = 2.5)"
   ]
  },
  {
   "cell_type": "code",
   "execution_count": null,
   "metadata": {},
   "outputs": [],
   "source": []
  }
 ],
 "metadata": {
  "kernelspec": {
   "display_name": "TensorFlow-GPU-1.13",
   "language": "python",
   "name": "leila-gpu"
  },
  "language_info": {
   "codemirror_mode": {
    "name": "ipython",
    "version": 3
   },
   "file_extension": ".py",
   "mimetype": "text/x-python",
   "name": "python",
   "nbconvert_exporter": "python",
   "pygments_lexer": "ipython3",
   "version": "3.7.7"
  }
 },
 "nbformat": 4,
 "nbformat_minor": 4
}
