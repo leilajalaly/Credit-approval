{
 "cells": [
  {
   "cell_type": "code",
   "execution_count": 1,
   "metadata": {},
   "outputs": [],
   "source": [
    "import pandas as pd\n",
    "import numpy as np\n",
    "\n",
    "from imblearn.over_sampling import SMOTE\n",
    "\n",
    "from sklearn.manifold import TSNE\n",
    "from sklearn.model_selection import train_test_split\n",
    "from sklearn import metrics\n",
    "from sklearn.metrics import confusion_matrix, classification_report\n",
    "from sklearn.metrics import accuracy_score\n",
    "from sklearn.ensemble import RandomForestClassifier\n",
    "from sklearn.model_selection import cross_val_score\n",
    "from sklearn.model_selection import RandomizedSearchCV\n",
    "from sklearn.metrics import f1_score"
   ]
  },
  {
   "cell_type": "code",
   "execution_count": 2,
   "metadata": {},
   "outputs": [],
   "source": [
    "#Call the dataset with its targete\n",
    "df_numeric = pd.read_csv('data1.csv')\n",
    "df_target=pd.read_csv('data_target1.csv')"
   ]
  },
  {
   "cell_type": "markdown",
   "metadata": {},
   "source": [
    "# Balance dataset"
   ]
  },
  {
   "cell_type": "code",
   "execution_count": 3,
   "metadata": {},
   "outputs": [],
   "source": [
    "#Use SMOTE technique to balance dataset\n",
    "Y = df_target['TARGET'].astype('int')\n",
    "X_balance,Y_balance = SMOTE().fit_sample(df_numeric,Y)\n",
    "X_balance = pd.DataFrame(X_balance, columns = df_numeric.columns)"
   ]
  },
  {
   "cell_type": "code",
   "execution_count": 4,
   "metadata": {},
   "outputs": [
    {
     "data": {
      "text/plain": [
       "(15272, 72)"
      ]
     },
     "execution_count": 4,
     "metadata": {},
     "output_type": "execute_result"
    }
   ],
   "source": [
    "X_balance.shape"
   ]
  },
  {
   "cell_type": "markdown",
   "metadata": {},
   "source": [
    "# Split the data to train and test"
   ]
  },
  {
   "cell_type": "code",
   "execution_count": 6,
   "metadata": {},
   "outputs": [
    {
     "name": "stdout",
     "output_type": "stream",
     "text": [
      "Sizes and class distributions for train/test data\n",
      "Shape train_data (4581, 72)\n",
      "Shape test_data (10691, 72)\n",
      "Train data number of 0s 2316 and 1s 2265\n",
      "Test data number of 0s 5320 and 1s 5371\n"
     ]
    }
   ],
   "source": [
    "#spliting the data to train and test\n",
    "train_data, test_data, train_targets, test_targets = train_test_split(\n",
    "    X_balance, Y_balance, test_size=0.7, random_state=112\n",
    ")\n",
    "train_targets = train_targets.values\n",
    "test_targets = test_targets.values\n",
    "print(\"Sizes and class distributions for train/test data\")\n",
    "print(\"Shape train_data {}\".format(train_data.shape))\n",
    "print(\"Shape test_data {}\".format(test_data.shape))\n",
    "print(\n",
    "    \"Train data number of 0s {} and 1s {}\".format(\n",
    "        np.sum(train_targets == 0), np.sum(train_targets == 1)\n",
    "    )\n",
    ")\n",
    "print(\n",
    "    \"Test data number of 0s {} and 1s {}\".format(\n",
    "        np.sum(test_targets == 0), np.sum(test_targets == 1)\n",
    "    )\n",
    ")"
   ]
  },
  {
   "cell_type": "markdown",
   "metadata": {},
   "source": [
    "# Running the basic Random Forest Classifier"
   ]
  },
  {
   "cell_type": "code",
   "execution_count": 7,
   "metadata": {},
   "outputs": [
    {
     "name": "stdout",
     "output_type": "stream",
     "text": [
      "Accuracy Score is 0.908614722663923\n",
      "      0     1\n",
      "0  5077   243\n",
      "1   734  4637\n"
     ]
    }
   ],
   "source": [
    "#Create the random forest and evaluate classifier on our dataset(sample); Find accuracy and confusion matrix\n",
    "rf = RandomForestClassifier()\n",
    "rffit = rf.fit(train_data, train_targets)\n",
    "y_predict = rffit.predict(test_data)\n",
    "\n",
    "print('Accuracy Score is',accuracy_score(test_targets, y_predict))\n",
    "print(pd.DataFrame(confusion_matrix(test_targets,y_predict)))"
   ]
  },
  {
   "cell_type": "markdown",
   "metadata": {},
   "source": [
    "# Evaluating the Performance of Random Forest"
   ]
  },
  {
   "cell_type": "code",
   "execution_count": 8,
   "metadata": {},
   "outputs": [],
   "source": [
    "#Use 10 fold cross-validation \n",
    "rf_cv_score = cross_val_score(rf, X_balance, Y_balance, cv=10)"
   ]
  },
  {
   "cell_type": "code",
   "execution_count": 9,
   "metadata": {},
   "outputs": [
    {
     "name": "stdout",
     "output_type": "stream",
     "text": [
      "Confusion Matrix\n",
      "[[5077  243]\n",
      " [ 734 4637]]\n",
      "Classification Report\n",
      "              precision    recall  f1-score   support\n",
      "\n",
      "           0       0.87      0.95      0.91      5320\n",
      "           1       0.95      0.86      0.90      5371\n",
      "\n",
      "    accuracy                           0.91     10691\n",
      "   macro avg       0.91      0.91      0.91     10691\n",
      "weighted avg       0.91      0.91      0.91     10691\n",
      "\n"
     ]
    }
   ],
   "source": [
    "#Print scors\n",
    "print(\"Confusion Matrix\")\n",
    "print(confusion_matrix(test_targets, y_predict))\n",
    "\n",
    "print(\"Classification Report\")\n",
    "print(classification_report(test_targets, y_predict))"
   ]
  },
  {
   "cell_type": "markdown",
   "metadata": {},
   "source": [
    "# Tunning hyperparameter"
   ]
  },
  {
   "cell_type": "code",
   "execution_count": 10,
   "metadata": {},
   "outputs": [
    {
     "name": "stderr",
     "output_type": "stream",
     "text": [
      "C:\\Anaconda3\\envs\\leila-gpu\\lib\\site-packages\\sklearn\\model_selection\\_search.py:282: UserWarning: The total space of parameters 90 is smaller than n_iter=100. Running 90 iterations. For exhaustive searches, use GridSearchCV.\n",
      "  % (grid_size, self.n_iter, grid_size), UserWarning)\n"
     ]
    },
    {
     "name": "stdout",
     "output_type": "stream",
     "text": [
      "{'n_estimators': 1000, 'max_features': 'auto', 'max_depth': None}\n"
     ]
    }
   ],
   "source": [
    "#Number of trees in random forest\n",
    "n_estimators = [int(x) for x in np.linspace(start = 1, stop = 1000, num = 5)]\n",
    "\n",
    "#Number of features at every split\n",
    "max_features = ['auto', 'sqrt','log2','int','float','None']\n",
    "\n",
    "#Maximum depth\n",
    "max_depth = [int(x) for x in np.linspace(10, 500, num =2)]\n",
    "max_depth.append(None)\n",
    "\n",
    "#Create random grid\n",
    "random_grid = {'n_estimators': n_estimators,'max_features': max_features,'max_depth': max_depth }\n",
    "\n",
    "#Random search of parameters\n",
    "rf_random = RandomizedSearchCV(estimator = rf, param_distributions = random_grid, n_iter = 100, cv = 3, verbose=0, random_state=2, n_jobs = -1)\n",
    "\n",
    "#Fit the model\n",
    "rf_random.fit(train_data, train_targets)\n",
    "\n",
    "#Print the results\n",
    "print(rf_random.best_params_)"
   ]
  },
  {
   "cell_type": "code",
   "execution_count": 11,
   "metadata": {},
   "outputs": [
    {
     "name": "stdout",
     "output_type": "stream",
     "text": [
      "Confusion Matrix\n",
      "[[5112  208]\n",
      " [ 698 4673]]\n",
      "Classification Report\n",
      "              precision    recall  f1-score   support\n",
      "\n",
      "           0       0.88      0.96      0.92      5320\n",
      "           1       0.96      0.87      0.91      5371\n",
      "\n",
      "    accuracy                           0.92     10691\n",
      "   macro avg       0.92      0.92      0.92     10691\n",
      "weighted avg       0.92      0.92      0.92     10691\n",
      "\n"
     ]
    }
   ],
   "source": [
    "#Running Random Forest with the best parameters\n",
    "rf = RandomForestClassifier(n_estimators=1000, max_depth=None, max_features='auto')\n",
    "rf.fit(train_data,train_targets)\n",
    "y_predict = rf.predict(test_data)\n",
    "rf_cv_score = cross_val_score(rf, X_balance, Y_balance, cv=10)\n",
    "\n",
    "print(\"Confusion Matrix\")\n",
    "print(confusion_matrix(test_targets, y_predict))\n",
    "\n",
    "print(\"Classification Report\")\n",
    "print(classification_report(test_targets, y_predict))"
   ]
  },
  {
   "cell_type": "code",
   "execution_count": 12,
   "metadata": {},
   "outputs": [
    {
     "name": "stdout",
     "output_type": "stream",
     "text": [
      "The AUC on test set:\n",
      "\n",
      "0.9154725391023639\n"
     ]
    }
   ],
   "source": [
    "#Calulate ROC AUC\n",
    "test_predictions = y_predict\n",
    "test_predictions_class = ((test_predictions > 0.5) * 1).flatten()\n",
    "test_df = pd.DataFrame(\n",
    "    {\n",
    "        \"Predicted_score\": test_predictions.flatten(),\n",
    "        \"Predicted_class\": test_predictions_class,\n",
    "        \"True\": test_targets,\n",
    "    }\n",
    ")\n",
    "roc_auc = metrics.roc_auc_score(test_targets, y_predict)\n",
    "print(\"The AUC on test set:\\n\")\n",
    "print(roc_auc)"
   ]
  },
  {
   "cell_type": "code",
   "execution_count": 13,
   "metadata": {},
   "outputs": [
    {
     "data": {
      "text/plain": [
       "0.9151126911795792"
      ]
     },
     "execution_count": 13,
     "metadata": {},
     "output_type": "execute_result"
    }
   ],
   "source": [
    "#Calculate f1 score\n",
    "f1_score(test_targets, y_predict, average='macro')"
   ]
  },
  {
   "cell_type": "code",
   "execution_count": 14,
   "metadata": {},
   "outputs": [
    {
     "data": {
      "text/plain": [
       "0.9154725391023639"
      ]
     },
     "execution_count": 14,
     "metadata": {},
     "output_type": "execute_result"
    }
   ],
   "source": [
    "# Recall\n",
    "from sklearn.metrics import recall_score\n",
    "recall_score(test_targets, y_predict, average='macro')"
   ]
  },
  {
   "cell_type": "code",
   "execution_count": 15,
   "metadata": {},
   "outputs": [
    {
     "data": {
      "text/plain": [
       "0.9186240439852307"
      ]
     },
     "execution_count": 15,
     "metadata": {},
     "output_type": "execute_result"
    }
   ],
   "source": [
    "#Precision\n",
    "from sklearn.metrics import precision_score\n",
    "precision_score(test_targets, y_predict, average='macro')"
   ]
  },
  {
   "cell_type": "code",
   "execution_count": null,
   "metadata": {},
   "outputs": [],
   "source": []
  }
 ],
 "metadata": {
  "kernelspec": {
   "display_name": "TensorFlow-GPU-1.13",
   "language": "python",
   "name": "leila-gpu"
  },
  "language_info": {
   "codemirror_mode": {
    "name": "ipython",
    "version": 3
   },
   "file_extension": ".py",
   "mimetype": "text/x-python",
   "name": "python",
   "nbconvert_exporter": "python",
   "pygments_lexer": "ipython3",
   "version": "3.7.7"
  }
 },
 "nbformat": 4,
 "nbformat_minor": 4
}
