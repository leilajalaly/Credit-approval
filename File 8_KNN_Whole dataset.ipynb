{
 "cells": [
  {
   "cell_type": "code",
   "execution_count": 1,
   "metadata": {},
   "outputs": [],
   "source": [
    "import pandas as pd\n",
    "import numpy as np\n",
    "\n",
    "from imblearn.over_sampling import SMOTE\n",
    "\n",
    "from sklearn.model_selection import train_test_split\n",
    "from sklearn.model_selection import cross_val_score\n",
    "from sklearn import metrics\n",
    "from sklearn.metrics import classification_report,confusion_matrix\n",
    "from sklearn.metrics import f1_score\n",
    "from sklearn import neighbors\n",
    "from sklearn.neighbors import (KNeighborsClassifier,NeighborhoodComponentsAnalysis)\n",
    "\n",
    "import matplotlib.pyplot as plt"
   ]
  },
  {
   "cell_type": "code",
   "execution_count": 2,
   "metadata": {},
   "outputs": [],
   "source": [
    "#Reading the csv file of large dataset and its target values\n",
    "df_numeric = pd.read_csv('data1.csv')\n",
    "df_target=pd.read_csv('data_target1.csv')\n"
   ]
  },
  {
   "cell_type": "markdown",
   "metadata": {},
   "source": [
    "# Dealing with imbalanced dataset"
   ]
  },
  {
   "cell_type": "code",
   "execution_count": 3,
   "metadata": {},
   "outputs": [],
   "source": [
    "#Using SMOTE method to balance clases of dataset\n",
    "y = df_target['TARGET'].astype('int')\n",
    "X_balance,Y_balance = SMOTE().fit_sample(df_numeric,y)\n",
    "X_balance = pd.DataFrame(X_balance, columns = df_numeric.columns)"
   ]
  },
  {
   "cell_type": "markdown",
   "metadata": {},
   "source": [
    "# Splitting the data to train and test"
   ]
  },
  {
   "cell_type": "code",
   "execution_count": 4,
   "metadata": {},
   "outputs": [
    {
     "name": "stdout",
     "output_type": "stream",
     "text": [
      "Sizes and class distributions for train/test data\n",
      "Shape train_data (4581, 72)\n",
      "Shape test_data (10691, 72)\n",
      "Train data number of 0s 2205 and 1s 2376\n",
      "Test data number of 0s 5431 and 1s 5260\n"
     ]
    }
   ],
   "source": [
    "#Split the data\n",
    "X_train, X_test, y_train, y_test = train_test_split(\n",
    "    X_balance, Y_balance, test_size=0.7, random_state=105\n",
    ")\n",
    "print(\"Sizes and class distributions for train/test data\")\n",
    "print(\"Shape train_data {}\".format(X_train.shape))\n",
    "print(\"Shape test_data {}\".format(X_test.shape))\n",
    "print(\n",
    "    \"Train data number of 0s {} and 1s {}\".format(\n",
    "        np.sum(y_train == 0), np.sum(y_train == 1)\n",
    "    )\n",
    ")\n",
    "print(\n",
    "    \"Test data number of 0s {} and 1s {}\".format(\n",
    "        np.sum(y_test == 0), np.sum(y_test == 1)\n",
    "    )\n",
    ")"
   ]
  },
  {
   "cell_type": "code",
   "execution_count": 5,
   "metadata": {},
   "outputs": [],
   "source": [
    "n_neighbors = 2"
   ]
  },
  {
   "cell_type": "code",
   "execution_count": 6,
   "metadata": {},
   "outputs": [
    {
     "data": {
      "text/plain": [
       "KNeighborsClassifier(n_neighbors=2)"
      ]
     },
     "execution_count": 6,
     "metadata": {},
     "output_type": "execute_result"
    }
   ],
   "source": [
    "#for weights in ['uniform', 'distance'] we create an instances of Neighbours Classifiers and fit the data.\n",
    "kncd = neighbors.KNeighborsClassifier(n_neighbors, weights='distance')\n",
    "kncd.fit(X_train, y_train)\n",
    "\n",
    "kncu = neighbors.KNeighborsClassifier(n_neighbors, weights='uniform')\n",
    "kncu.fit(X_train, y_train)"
   ]
  },
  {
   "cell_type": "code",
   "execution_count": 7,
   "metadata": {},
   "outputs": [],
   "source": [
    "#Predict y value for kncd\n",
    "y_pred_distance = kncd.predict(X_test)\n",
    "\n",
    "#Predict y value for kncu\n",
    "y_pred_uniform = kncu.predict(X_test)"
   ]
  },
  {
   "cell_type": "code",
   "execution_count": 8,
   "metadata": {},
   "outputs": [
    {
     "name": "stdout",
     "output_type": "stream",
     "text": [
      "Accuracy with weights being distance: 0.7974932185950799\n",
      "Accuracy with weights being uniform: 0.8086240763258816\n"
     ]
    }
   ],
   "source": [
    "#print classifier accuracy for y_pred_distance and y_pred_uniform\n",
    "print(\"Accuracy with weights being distance:\",metrics.accuracy_score(y_test, y_pred_distance))\n",
    "print(\"Accuracy with weights being uniform:\",metrics.accuracy_score(y_test, y_pred_uniform))"
   ]
  },
  {
   "cell_type": "code",
   "execution_count": 9,
   "metadata": {},
   "outputs": [
    {
     "name": "stdout",
     "output_type": "stream",
     "text": [
      "[[3382 2049]\n",
      " [ 116 5144]]\n"
     ]
    }
   ],
   "source": [
    "#print the confusion matrix for y_pred_distance\n",
    "conf_mat_distance=confusion_matrix(y_test,y_pred_distance)\n",
    "print(conf_mat_distance)"
   ]
  },
  {
   "cell_type": "code",
   "execution_count": 10,
   "metadata": {},
   "outputs": [
    {
     "name": "stdout",
     "output_type": "stream",
     "text": [
      "[[3840 1591]\n",
      " [ 455 4805]]\n"
     ]
    }
   ],
   "source": [
    "#print the confusion matrix for y_pred_uniform\n",
    "conf_mat_uniform=confusion_matrix(y_test,y_pred_uniform)\n",
    "print(conf_mat_uniform)"
   ]
  },
  {
   "cell_type": "code",
   "execution_count": 11,
   "metadata": {},
   "outputs": [
    {
     "name": "stdout",
     "output_type": "stream",
     "text": [
      "              precision    recall  f1-score   support\n",
      "\n",
      "           0       0.97      0.62      0.76      5431\n",
      "           1       0.72      0.98      0.83      5260\n",
      "\n",
      "    accuracy                           0.80     10691\n",
      "   macro avg       0.84      0.80      0.79     10691\n",
      "weighted avg       0.84      0.80      0.79     10691\n",
      "\n"
     ]
    }
   ],
   "source": [
    "#Get a report of some measurements for y_pred_distance\n",
    "print(classification_report(y_test,y_pred_distance))"
   ]
  },
  {
   "cell_type": "code",
   "execution_count": 12,
   "metadata": {},
   "outputs": [
    {
     "name": "stdout",
     "output_type": "stream",
     "text": [
      "              precision    recall  f1-score   support\n",
      "\n",
      "           0       0.89      0.71      0.79      5431\n",
      "           1       0.75      0.91      0.82      5260\n",
      "\n",
      "    accuracy                           0.81     10691\n",
      "   macro avg       0.82      0.81      0.81     10691\n",
      "weighted avg       0.82      0.81      0.81     10691\n",
      "\n"
     ]
    }
   ],
   "source": [
    "#Get a report of some measurements for y_pred_uniform\n",
    "print(classification_report(y_test,y_pred_uniform))"
   ]
  },
  {
   "cell_type": "code",
   "execution_count": 13,
   "metadata": {},
   "outputs": [
    {
     "data": {
      "text/plain": [
       "0.7918389743037134"
      ]
     },
     "execution_count": 13,
     "metadata": {},
     "output_type": "execute_result"
    }
   ],
   "source": [
    "#Get the f1 score for y_pred_distance\n",
    "f1_score(y_test, y_pred_distance, average='macro')"
   ]
  },
  {
   "cell_type": "code",
   "execution_count": 14,
   "metadata": {},
   "outputs": [
    {
     "data": {
      "text/plain": [
       "0.8070520561250607"
      ]
     },
     "execution_count": 14,
     "metadata": {},
     "output_type": "execute_result"
    }
   ],
   "source": [
    "#Get the f1 score for y_pred_uniform\n",
    "f1_score(y_test, y_pred_uniform, average='macro')"
   ]
  },
  {
   "cell_type": "code",
   "execution_count": 15,
   "metadata": {},
   "outputs": [
    {
     "name": "stdout",
     "output_type": "stream",
     "text": [
      "Misclassification error rate for weights being distance : 0.203\n"
     ]
    }
   ],
   "source": [
    "#print misclassification error rate for y_pred_distance\n",
    "print(\"Misclassification error rate for weights being distance :\",round(np.mean(y_pred_distance!=y_test),3))"
   ]
  },
  {
   "cell_type": "code",
   "execution_count": 16,
   "metadata": {},
   "outputs": [
    {
     "name": "stdout",
     "output_type": "stream",
     "text": [
      "Misclassification error rate for weights being uniform : 0.191\n"
     ]
    }
   ],
   "source": [
    "#print misclassification error rate for y_pred_uniform\n",
    "print(\"Misclassification error rate for weights being uniform :\",round(np.mean(y_pred_uniform!=y_test),3))"
   ]
  },
  {
   "cell_type": "code",
   "execution_count": 17,
   "metadata": {},
   "outputs": [
    {
     "name": "stdout",
     "output_type": "stream",
     "text": [
      "The AUC on test set:\n",
      "\n",
      "0.8003340910825265\n"
     ]
    }
   ],
   "source": [
    "#Calculate AUC for y_pred_distance\n",
    "test_predictions = y_pred_distance\n",
    "test_predictions_class = ((test_predictions > 0.5) * 1).flatten()\n",
    "test_df = pd.DataFrame(\n",
    "    {\n",
    "        \"Predicted_score\": test_predictions.flatten(),\n",
    "        \"Predicted_class\": test_predictions_class,\n",
    "        \"True\": y_test,\n",
    "    }\n",
    ")\n",
    "roc_auc = metrics.roc_auc_score(y_test, y_pred_distance)\n",
    "print(\"The AUC on test set:\\n\")\n",
    "print(roc_auc)"
   ]
  },
  {
   "cell_type": "code",
   "execution_count": 18,
   "metadata": {},
   "outputs": [
    {
     "name": "stdout",
     "output_type": "stream",
     "text": [
      "The AUC on test set:\n",
      "\n",
      "0.8102751035633348\n"
     ]
    }
   ],
   "source": [
    "#Calculate AUC for y_pred_uniform\n",
    "test_predictions = y_pred_uniform\n",
    "test_predictions_class = ((test_predictions > 0.5) * 1).flatten()\n",
    "test_df = pd.DataFrame(\n",
    "    {\n",
    "        \"Predicted_score\": test_predictions.flatten(),\n",
    "        \"Predicted_class\": test_predictions_class,\n",
    "        \"True\": y_test,\n",
    "    }\n",
    ")\n",
    "roc_auc = metrics.roc_auc_score(y_test, y_pred_uniform)\n",
    "print(\"The AUC on test set:\\n\")\n",
    "print(roc_auc)"
   ]
  },
  {
   "cell_type": "code",
   "execution_count": 19,
   "metadata": {},
   "outputs": [
    {
     "data": {
      "text/plain": [
       "0.7918389743037134"
      ]
     },
     "execution_count": 19,
     "metadata": {},
     "output_type": "execute_result"
    }
   ],
   "source": [
    "#Get the f1 score for y_pred_distance\n",
    "f1_score(y_test, y_pred_distance, average='macro')"
   ]
  },
  {
   "cell_type": "code",
   "execution_count": 20,
   "metadata": {},
   "outputs": [
    {
     "data": {
      "text/plain": [
       "0.8070520561250607"
      ]
     },
     "execution_count": 20,
     "metadata": {},
     "output_type": "execute_result"
    }
   ],
   "source": [
    "#Get the f1 score for y_pred_uniform\n",
    "f1_score(y_test, y_pred_uniform, average='macro')"
   ]
  },
  {
   "cell_type": "code",
   "execution_count": 21,
   "metadata": {},
   "outputs": [
    {
     "data": {
      "text/plain": [
       "0.8003340910825265"
      ]
     },
     "execution_count": 21,
     "metadata": {},
     "output_type": "execute_result"
    }
   ],
   "source": [
    "# Recall\n",
    "from sklearn.metrics import recall_score\n",
    "recall_score(y_test, y_pred_distance, average='macro')"
   ]
  },
  {
   "cell_type": "code",
   "execution_count": 22,
   "metadata": {},
   "outputs": [
    {
     "data": {
      "text/plain": [
       "0.8102751035633349"
      ]
     },
     "execution_count": 22,
     "metadata": {},
     "output_type": "execute_result"
    }
   ],
   "source": [
    "# Recall\n",
    "from sklearn.metrics import recall_score\n",
    "recall_score(y_test, y_pred_uniform, average='macro')"
   ]
  },
  {
   "cell_type": "code",
   "execution_count": 23,
   "metadata": {},
   "outputs": [
    {
     "data": {
      "text/plain": [
       "0.840988956212352"
      ]
     },
     "execution_count": 23,
     "metadata": {},
     "output_type": "execute_result"
    }
   ],
   "source": [
    "#Precision\n",
    "from sklearn.metrics import precision_score\n",
    "precision_score(y_test, y_pred_distance, average='macro')"
   ]
  },
  {
   "cell_type": "code",
   "execution_count": 24,
   "metadata": {},
   "outputs": [
    {
     "data": {
      "text/plain": [
       "0.8226568227668486"
      ]
     },
     "execution_count": 24,
     "metadata": {},
     "output_type": "execute_result"
    }
   ],
   "source": [
    "#Precision\n",
    "from sklearn.metrics import precision_score\n",
    "precision_score(y_test, y_pred_uniform, average='macro')"
   ]
  },
  {
   "cell_type": "markdown",
   "metadata": {},
   "source": [
    "# Choosing the best 'k' when it has lowest error rate"
   ]
  },
  {
   "cell_type": "code",
   "execution_count": 25,
   "metadata": {},
   "outputs": [],
   "source": [
    "#Find error rate for all n_neighbors between 1 to 50\n",
    "error_rate = []\n",
    "for i in range(1,50):\n",
    "    knn = KNeighborsClassifier(n_neighbors=i)\n",
    "    knn.fit(X_train,y_train)\n",
    "    pred_i = knn.predict(X_test)\n",
    "    error_rate.append(np.mean(pred_i != y_test))"
   ]
  },
  {
   "cell_type": "code",
   "execution_count": 27,
   "metadata": {},
   "outputs": [
    {
     "data": {
      "text/plain": [
       "Text(0, 0.5, 'Mean error rate')"
      ]
     },
     "execution_count": 27,
     "metadata": {},
     "output_type": "execute_result"
    },
    {
     "data": {
      "image/png": "[encoded data removed]",
      "text/plain": [
       "<Figure size 864x432 with 1 Axes>"
      ]
     },
     "metadata": {
      "needs_background": "light"
     },
     "output_type": "display_data"
    }
   ],
   "source": [
    "#Draw mean error rate with different value for n_neighbors \n",
    "plt.figure(figsize=(12, 6))\n",
    "plt.plot(range(1, 50), error_rate, color='red', linestyle='dashed', marker='o',\n",
    "         markerfacecolor='blue', markersize=10)\n",
    "plt.title('Mean Error Rate for different Value of K')\n",
    "plt.xlabel('K Value')\n",
    "plt.ylabel('Mean error rate')"
   ]
  },
  {
   "cell_type": "code",
   "execution_count": null,
   "metadata": {},
   "outputs": [],
   "source": []
  },
  {
   "cell_type": "code",
   "execution_count": null,
   "metadata": {},
   "outputs": [],
   "source": []
  }
 ],
 "metadata": {
  "kernelspec": {
   "display_name": "TensorFlow-GPU-1.13",
   "language": "python",
   "name": "leila-gpu"
  },
  "language_info": {
   "codemirror_mode": {
    "name": "ipython",
    "version": 3
   },
   "file_extension": ".py",
   "mimetype": "text/x-python",
   "name": "python",
   "nbconvert_exporter": "python",
   "pygments_lexer": "ipython3",
   "version": "3.7.7"
  }
 },
 "nbformat": 4,
 "nbformat_minor": 4
}
