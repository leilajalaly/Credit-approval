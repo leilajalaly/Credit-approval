{
 "cells": [
  {
   "cell_type": "code",
   "execution_count": 1,
   "metadata": {},
   "outputs": [],
   "source": [
    "import pandas as pd\n",
    "import numpy as np\n",
    "\n",
    "from imblearn.over_sampling import SMOTE\n",
    "\n",
    "import sklearn\n",
    "from sklearn.model_selection import train_test_split\n",
    "from sklearn.model_selection import cross_val_score\n",
    "from sklearn import metrics\n",
    "from sklearn.metrics import classification_report,confusion_matrix\n",
    "from sklearn.metrics import f1_score\n",
    "from sklearn import neighbors\n",
    "from sklearn.neighbors import (KNeighborsClassifier,NeighborhoodComponentsAnalysis)\n",
    "\n",
    "import matplotlib.pyplot as plt"
   ]
  },
  {
   "cell_type": "code",
   "execution_count": 2,
   "metadata": {},
   "outputs": [],
   "source": [
    "#Reading the csv file of dataset and its target\n",
    "df_numeric = pd.read_csv('data_numeric_norm.csv')\n",
    "df_target=pd.read_csv('data_target.csv')\n"
   ]
  },
  {
   "cell_type": "markdown",
   "metadata": {},
   "source": [
    "# Dealing with imbalanced dataset"
   ]
  },
  {
   "cell_type": "code",
   "execution_count": 3,
   "metadata": {},
   "outputs": [],
   "source": [
    "#Using SMOTE method to balance clases of dataset\n",
    "y = df_target['TARGET'].astype('int')\n",
    "X_balance,Y_balance = SMOTE().fit_sample(df_numeric,y)\n",
    "X_balance = pd.DataFrame(X_balance, columns = df_numeric.columns)"
   ]
  },
  {
   "cell_type": "markdown",
   "metadata": {},
   "source": [
    "# Splitting the data to train and test"
   ]
  },
  {
   "cell_type": "code",
   "execution_count": 4,
   "metadata": {},
   "outputs": [
    {
     "name": "stdout",
     "output_type": "stream",
     "text": [
      "Sizes and class distributions for train/test data\n",
      "Shape train_data (600, 38)\n",
      "Shape test_data (1400, 38)\n",
      "Train data number of 0s 299 and 1s 301\n",
      "Test data number of 0s 701 and 1s 699\n"
     ]
    }
   ],
   "source": [
    "#Split the data\n",
    "X_train, X_test, y_train, y_test = train_test_split(\n",
    "    X_balance, Y_balance, test_size=0.7, random_state=110\n",
    ")\n",
    "print(\"Sizes and class distributions for train/test data\")\n",
    "print(\"Shape train_data {}\".format(X_train.shape))\n",
    "print(\"Shape test_data {}\".format(X_test.shape))\n",
    "print(\n",
    "    \"Train data number of 0s {} and 1s {}\".format(\n",
    "        np.sum(y_train == 0), np.sum(y_train == 1)\n",
    "    )\n",
    ")\n",
    "print(\n",
    "    \"Test data number of 0s {} and 1s {}\".format(\n",
    "        np.sum(y_test == 0), np.sum(y_test == 1)\n",
    "    )\n",
    ")"
   ]
  },
  {
   "cell_type": "code",
   "execution_count": 41,
   "metadata": {},
   "outputs": [],
   "source": [
    "#Best n_neighbors\n",
    "n_neighbors = 40"
   ]
  },
  {
   "cell_type": "code",
   "execution_count": 42,
   "metadata": {},
   "outputs": [
    {
     "data": {
      "text/plain": [
       "KNeighborsClassifier(n_neighbors=40)"
      ]
     },
     "execution_count": 42,
     "metadata": {},
     "output_type": "execute_result"
    }
   ],
   "source": [
    "#for weights in ['uniform', 'distance'] we create an instances of Neighbours Classifiers and fit the data.\n",
    "kncd = neighbors.KNeighborsClassifier(n_neighbors, weights='distance')\n",
    "kncd.fit(X_train, y_train)\n",
    "\n",
    "kncu = neighbors.KNeighborsClassifier(n_neighbors, weights='uniform')\n",
    "kncu.fit(X_train, y_train)"
   ]
  },
  {
   "cell_type": "code",
   "execution_count": 43,
   "metadata": {},
   "outputs": [],
   "source": [
    "#Predict y value for kncd\n",
    "y_pred_distance = kncd.predict(X_test)\n",
    "\n",
    "#Predict y value for kncu\n",
    "y_pred_uniform = kncu.predict(X_test)"
   ]
  },
  {
   "cell_type": "code",
   "execution_count": 44,
   "metadata": {},
   "outputs": [
    {
     "name": "stdout",
     "output_type": "stream",
     "text": [
      "Accuracy with weights being distance: 0.5992857142857143\n",
      "Accuracy with weights being uniform: 0.5785714285714286\n"
     ]
    }
   ],
   "source": [
    "#print classifier accuracy for y_pred_distance and y_pred_uniform\n",
    "print(\"Accuracy with weights being distance:\",metrics.accuracy_score(y_test, y_pred_distance))\n",
    "print(\"Accuracy with weights being uniform:\",metrics.accuracy_score(y_test, y_pred_uniform))"
   ]
  },
  {
   "cell_type": "code",
   "execution_count": 45,
   "metadata": {},
   "outputs": [
    {
     "name": "stdout",
     "output_type": "stream",
     "text": [
      "[[391 310]\n",
      " [251 448]]\n"
     ]
    }
   ],
   "source": [
    "#print the confusion matrix for y_pred_distance\n",
    "conf_mat_distance=confusion_matrix(y_test,y_pred_distance)\n",
    "print(conf_mat_distance)"
   ]
  },
  {
   "cell_type": "code",
   "execution_count": 46,
   "metadata": {},
   "outputs": [
    {
     "name": "stdout",
     "output_type": "stream",
     "text": [
      "[[425 276]\n",
      " [314 385]]\n"
     ]
    }
   ],
   "source": [
    "#print the confusion matrix for y_pred_uniform\n",
    "conf_mat_uniform=confusion_matrix(y_test,y_pred_uniform)\n",
    "print(conf_mat_uniform)"
   ]
  },
  {
   "cell_type": "code",
   "execution_count": 47,
   "metadata": {},
   "outputs": [
    {
     "name": "stdout",
     "output_type": "stream",
     "text": [
      "              precision    recall  f1-score   support\n",
      "\n",
      "           0       0.61      0.56      0.58       701\n",
      "           1       0.59      0.64      0.61       699\n",
      "\n",
      "    accuracy                           0.60      1400\n",
      "   macro avg       0.60      0.60      0.60      1400\n",
      "weighted avg       0.60      0.60      0.60      1400\n",
      "\n"
     ]
    }
   ],
   "source": [
    "#Get a report of some measurements for y_pred_distance\n",
    "print(classification_report(y_test,y_pred_distance))"
   ]
  },
  {
   "cell_type": "code",
   "execution_count": 48,
   "metadata": {},
   "outputs": [
    {
     "name": "stdout",
     "output_type": "stream",
     "text": [
      "              precision    recall  f1-score   support\n",
      "\n",
      "           0       0.58      0.61      0.59       701\n",
      "           1       0.58      0.55      0.57       699\n",
      "\n",
      "    accuracy                           0.58      1400\n",
      "   macro avg       0.58      0.58      0.58      1400\n",
      "weighted avg       0.58      0.58      0.58      1400\n",
      "\n"
     ]
    }
   ],
   "source": [
    "#Get a report of some measurements for y_pred_uniform\n",
    "print(classification_report(y_test,y_pred_uniform))"
   ]
  },
  {
   "cell_type": "code",
   "execution_count": 49,
   "metadata": {},
   "outputs": [
    {
     "data": {
      "text/plain": [
       "0.5986203661068783"
      ]
     },
     "execution_count": 49,
     "metadata": {},
     "output_type": "execute_result"
    }
   ],
   "source": [
    "#Get the f1 score for y_pred_distance\n",
    "f1_score(y_test, y_pred_distance, average='macro')"
   ]
  },
  {
   "cell_type": "code",
   "execution_count": 50,
   "metadata": {},
   "outputs": [
    {
     "data": {
      "text/plain": [
       "0.5782271241830066"
      ]
     },
     "execution_count": 50,
     "metadata": {},
     "output_type": "execute_result"
    }
   ],
   "source": [
    "#Get the f1 score for y_pred_uniform\n",
    "f1_score(y_test, y_pred_uniform, average='macro')"
   ]
  },
  {
   "cell_type": "code",
   "execution_count": 51,
   "metadata": {},
   "outputs": [
    {
     "name": "stdout",
     "output_type": "stream",
     "text": [
      "Misclassification error rate for weights being distance : 0.401\n"
     ]
    }
   ],
   "source": [
    "#print misclassification error rate for y_pred_distance\n",
    "print(\"Misclassification error rate for weights being distance :\",round(np.mean(y_pred_distance!=y_test),3))"
   ]
  },
  {
   "cell_type": "code",
   "execution_count": 52,
   "metadata": {},
   "outputs": [
    {
     "name": "stdout",
     "output_type": "stream",
     "text": [
      "Misclassification error rate for weights being uniform : 0.421\n"
     ]
    }
   ],
   "source": [
    "#print misclassification error rate for y_pred_uniform\n",
    "print(\"Misclassification error rate for weights being uniform :\",round(np.mean(y_pred_uniform!=y_test),3))"
   ]
  },
  {
   "cell_type": "code",
   "execution_count": 53,
   "metadata": {},
   "outputs": [
    {
     "name": "stdout",
     "output_type": "stream",
     "text": [
      "The AUC on test set:\n",
      "\n",
      "0.5993451007042871\n"
     ]
    }
   ],
   "source": [
    "#Calculate AUC for y_pred_distance\n",
    "test_predictions = y_pred_distance\n",
    "test_predictions_class = ((test_predictions > 0.5) * 1).flatten()\n",
    "test_df = pd.DataFrame(\n",
    "    {\n",
    "        \"Predicted_score\": test_predictions.flatten(),\n",
    "        \"Predicted_class\": test_predictions_class,\n",
    "        \"True\": y_test,\n",
    "    }\n",
    ")\n",
    "roc_auc = metrics.roc_auc_score(y_test, y_pred_distance)\n",
    "print(\"The AUC on test set:\\n\")\n",
    "print(roc_auc)"
   ]
  },
  {
   "cell_type": "code",
   "execution_count": 54,
   "metadata": {
    "scrolled": true
   },
   "outputs": [
    {
     "name": "stdout",
     "output_type": "stream",
     "text": [
      "The AUC on test set:\n",
      "\n",
      "0.5785317929220264\n"
     ]
    }
   ],
   "source": [
    "#Calculate AUC for y_pred_uniform\n",
    "test_predictions = y_pred_uniform\n",
    "test_predictions_class = ((test_predictions > 0.5) * 1).flatten()\n",
    "test_df = pd.DataFrame(\n",
    "    {\n",
    "        \"Predicted_score\": test_predictions.flatten(),\n",
    "        \"Predicted_class\": test_predictions_class,\n",
    "        \"True\": y_test,\n",
    "    }\n",
    ")\n",
    "roc_auc = metrics.roc_auc_score(y_test, y_pred_uniform)\n",
    "print(\"The AUC on test set:\\n\")\n",
    "print(roc_auc)"
   ]
  },
  {
   "cell_type": "code",
   "execution_count": 55,
   "metadata": {},
   "outputs": [
    {
     "data": {
      "text/plain": [
       "0.5785317929220264"
      ]
     },
     "execution_count": 55,
     "metadata": {},
     "output_type": "execute_result"
    }
   ],
   "source": [
    "# Recall\n",
    "from sklearn.metrics import recall_score\n",
    "recall_score(y_test, y_pred_uniform, average='macro')"
   ]
  },
  {
   "cell_type": "code",
   "execution_count": 56,
   "metadata": {},
   "outputs": [
    {
     "data": {
      "text/plain": [
       "0.5993451007042871"
      ]
     },
     "execution_count": 56,
     "metadata": {},
     "output_type": "execute_result"
    }
   ],
   "source": [
    "# Recall\n",
    "from sklearn.metrics import recall_score\n",
    "recall_score(y_test, y_pred_distance, average='macro')"
   ]
  },
  {
   "cell_type": "code",
   "execution_count": 57,
   "metadata": {},
   "outputs": [
    {
     "data": {
      "text/plain": [
       "0.5787761602852938"
      ]
     },
     "execution_count": 57,
     "metadata": {},
     "output_type": "execute_result"
    }
   ],
   "source": [
    "#Precision\n",
    "from sklearn.metrics import precision_score\n",
    "precision_score(y_test, y_pred_uniform, average='macro')"
   ]
  },
  {
   "cell_type": "code",
   "execution_count": 58,
   "metadata": {},
   "outputs": [
    {
     "data": {
      "text/plain": [
       "0.6000316458297372"
      ]
     },
     "execution_count": 58,
     "metadata": {},
     "output_type": "execute_result"
    }
   ],
   "source": [
    "#Precision\n",
    "from sklearn.metrics import precision_score\n",
    "precision_score(y_test, y_pred_distance, average='macro')"
   ]
  },
  {
   "cell_type": "markdown",
   "metadata": {},
   "source": [
    "# Choosing the best 'k' when it has lowest error rate"
   ]
  },
  {
   "cell_type": "code",
   "execution_count": 59,
   "metadata": {},
   "outputs": [],
   "source": [
    "#Find error rate for all n_neighbors between 1 to 50\n",
    "error_rate = []\n",
    "for i in range(1,50):\n",
    "    knn = KNeighborsClassifier(n_neighbors=i)\n",
    "    knn.fit(X_train,y_train)\n",
    "    pred_i = knn.predict(X_test)\n",
    "    error_rate.append(np.mean(pred_i != y_test))"
   ]
  },
  {
   "cell_type": "code",
   "execution_count": 60,
   "metadata": {},
   "outputs": [
    {
     "data": {
      "text/plain": [
       "Text(0, 0.5, 'Mean error rate')"
      ]
     },
     "execution_count": 60,
     "metadata": {},
     "output_type": "execute_result"
    },
    {
     "data": {
      "image/png": "[encoded data removed]",
      "text/plain": [
       "<Figure size 864x432 with 1 Axes>"
      ]
     },
     "metadata": {
      "needs_background": "light"
     },
     "output_type": "display_data"
    }
   ],
   "source": [
    "#Draw mean error rate with different value for n_neighbors \n",
    "plt.figure(figsize=(12, 6))\n",
    "plt.plot(range(1, 50), error_rate, color='red', linestyle='dashed', marker='o',\n",
    "         markerfacecolor='blue', markersize=10)\n",
    "plt.title('Mean Error Rate for different Value of K')\n",
    "plt.xlabel('K Value')\n",
    "plt.ylabel('Mean error rate')"
   ]
  },
  {
   "cell_type": "code",
   "execution_count": null,
   "metadata": {},
   "outputs": [],
   "source": []
  },
  {
   "cell_type": "code",
   "execution_count": null,
   "metadata": {},
   "outputs": [],
   "source": []
  }
 ],
 "metadata": {
  "kernelspec": {
   "display_name": "TensorFlow-GPU-1.13",
   "language": "python",
   "name": "leila-gpu"
  },
  "language_info": {
   "codemirror_mode": {
    "name": "ipython",
    "version": 3
   },
   "file_extension": ".py",
   "mimetype": "text/x-python",
   "name": "python",
   "nbconvert_exporter": "python",
   "pygments_lexer": "ipython3",
   "version": "3.7.7"
  }
 },
 "nbformat": 4,
 "nbformat_minor": 4
}
